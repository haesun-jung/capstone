{
 "cells": [
  {
   "cell_type": "markdown",
   "id": "65ac3d6d",
   "metadata": {},
   "source": [
    "# Exploratory Data Analysis (EDA)\n",
    "\n",
    "This is an EDA performed on the real estate market trends in Conneticut. \n",
    "\n",
    "\n",
    "The raw data file was obtained from https://catalog.data.gov/dataset/real-estate-sales-2001-2018. On the wbsite, the file is described to include\n",
    "\n",
    ">town, property address, date of sale, property type (residential, apartment, commercial, industrial or vacant land), sales price, and property assessment. \n",
    "\n",
    ">Annual real estate sales are reported by grand list year (October 1 through September 30 each year). For instance, sales from 2018 GL are from 10/01/2018 through 9/30/2019 (Data.gov).\n",
    "\n"
   ]
  },
  {
   "cell_type": "markdown",
   "id": "1916d457",
   "metadata": {},
   "source": [
    "Frequently used libraries are imported:"
   ]
  },
  {
   "cell_type": "code",
   "execution_count": null,
   "id": "c0f38c08",
   "metadata": {},
   "outputs": [],
   "source": [
    "import numpy as np\n",
    "import pandas as pd\n",
    "import matplotlib.pyplot as plt\n",
    "import seaborn as sns\n",
    "from scipy import stats\n",
    "import plotly.express as px\n",
    "import plotly.graph_objects as go\n",
    "from plotly.subplots import make_subplots\n",
    "from bokeh.plotting import figure, show, output_notebook, output_file, reset_output\n",
    "output_notebook()\n",
    "from bokeh.layouts import gridplot\n",
    "from bokeh.models import HoverTool\n",
    "import osmnx as ox\n",
    "import geopandas as gpd\n",
    "import re\n",
    "from geopandas.tools import geocode\n",
    "\n",
    "from geopy.geocoders import Nominatim\n",
    "\n"
   ]
  },
  {
   "cell_type": "markdown",
   "id": "1b691a43",
   "metadata": {},
   "source": [
    "The dataset imported from the csv file:"
   ]
  },
  {
   "cell_type": "code",
   "execution_count": null,
   "id": "49d0dc73",
   "metadata": {
    "scrolled": true
   },
   "outputs": [],
   "source": [
    "real_estate=pd.read_csv('../datasets/Real_Estate_Sales_2001-2020_GL.csv')\n"
   ]
  },
  {
   "cell_type": "markdown",
   "id": "b9c7d4de",
   "metadata": {},
   "source": [
    "To get the basic idea about the dataset, 10 rows are called:"
   ]
  },
  {
   "cell_type": "code",
   "execution_count": null,
   "id": "a3e550b0",
   "metadata": {
    "scrolled": true
   },
   "outputs": [],
   "source": [
    "real_estate.sample(10)"
   ]
  },
  {
   "cell_type": "code",
   "execution_count": null,
   "id": "15dbaf8c",
   "metadata": {},
   "outputs": [],
   "source": [
    "real_estate = real_estate.loc[real_estate['Property Type'] == \"Condo\"]\n",
    "real_estate.info()"
   ]
  },
  {
   "cell_type": "code",
   "execution_count": null,
   "id": "8e41c63c",
   "metadata": {},
   "outputs": [],
   "source": [
    "real_estate = real_estate.loc[real_estate['Residential Type'] == \"Condo\"]\n",
    "real_estate.info()"
   ]
  },
  {
   "cell_type": "code",
   "execution_count": null,
   "id": "6eec036a",
   "metadata": {},
   "outputs": [],
   "source": [
    "GeoLocator = Nominatim(user_agent=\"bootcamp student\")"
   ]
  },
  {
   "cell_type": "code",
   "execution_count": null,
   "id": "fa5d0264",
   "metadata": {},
   "outputs": [],
   "source": [
    "from geopy.geocoders import Nominatim\n",
    "\n",
    "xgeolocator = Nominatim(user_agent=\"my_geocoder\")\n",
    "\n",
    "loc = '213, Oakland Street, Manchester'\n",
    "location = geolocator.geocode(loc)\n",
    "\n",
    "if location is not None:\n",
    "    print(\"Latitude:\", location.latitude)\n",
    "    print(\"Longitude:\", location.longitude)\n",
    "else:\n",
    "    print(\"Geocoding failed for the provided address.\")\n"
   ]
  },
  {
   "cell_type": "code",
   "execution_count": null,
   "id": "9a3b9a06",
   "metadata": {},
   "outputs": [],
   "source": []
  },
  {
   "cell_type": "code",
   "execution_count": null,
   "id": "2e81e545",
   "metadata": {
    "scrolled": false
   },
   "outputs": [],
   "source": [
    "import pandas as pd\n",
    "from geopy.geocoders import Nominatim\n",
    "from geopy.exc import GeocoderTimedOut\n",
    "\n",
    "# Initialize the geocoder\n",
    "geolocator = Nominatim(user_agent=\"my_geocoder\")\n",
    "\n",
    "real_estate = pd.DataFrame(real_estate)\n",
    "\n",
    "max_retries = 3\n",
    "\n",
    "for index, row in real_estate.iterrows():\n",
    "    address = row[\"Full Address\"]\n",
    "    retries = 0\n",
    "    while retries < max_retries:\n",
    "        try:\n",
    "            location = geolocator.geocode(address, timeout=10)\n",
    "            if location is not None:\n",
    "                real_estate.at[index, \"Latitude\"] = location.latitude\n",
    "                real_estate.at[index, \"Longitude\"] = location.longitude\n",
    "                print(\"Address:\", address)\n",
    "                print(\"Latitude:\", location.latitude)\n",
    "                print(\"Longitude:\", location.longitude)\n",
    "                break  # Successful geocode, break out of the loop\n",
    "            else:\n",
    "                print(\"Geocoding failed for:\", address)\n",
    "                break  # No more retries needed if geocoding failed\n",
    "        except GeocoderTimedOut:\n",
    "            retries += 1\n",
    "            print(\"Geocoding timed out for:\", address)\n",
    "            print(\"Retrying... (Attempt\", retries, \"of\", max_retries, \")\")\n",
    "    else:\n",
    "        real_estate.at[index, \"Latitude\"] = None\n",
    "        real_estate.at[index, \"Longitude\"] = None\n",
    "        print(\"Max retries reached for:\", address)\n",
    "\n",
    "print(real_estate)\n"
   ]
  },
  {
   "cell_type": "code",
   "execution_count": null,
   "id": "b431a2ee",
   "metadata": {},
   "outputs": [],
   "source": [
    "real_estate.to_csv('updated_real_estate'.csv’)"
   ]
  },
  {
   "cell_type": "code",
   "execution_count": null,
   "id": "9bf11b44",
   "metadata": {},
   "outputs": [],
   "source": []
  }
 ],
 "metadata": {
  "kernelspec": {
   "display_name": "Python 3 (ipykernel)",
   "language": "python",
   "name": "python3"
  },
  "language_info": {
   "codemirror_mode": {
    "name": "ipython",
    "version": 3
   },
   "file_extension": ".py",
   "mimetype": "text/x-python",
   "name": "python",
   "nbconvert_exporter": "python",
   "pygments_lexer": "ipython3",
   "version": "3.11.3"
  }
 },
 "nbformat": 4,
 "nbformat_minor": 5
}
