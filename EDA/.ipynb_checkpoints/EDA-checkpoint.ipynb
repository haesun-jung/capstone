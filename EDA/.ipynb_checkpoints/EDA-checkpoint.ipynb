{
 "cells": [
  {
   "cell_type": "markdown",
   "id": "42bd588c",
   "metadata": {},
   "source": [
    "# Exploratory Data Analysis (EDA)\n",
    "\n",
    "This is an EDA performed on the real estate market trends in Conneticut. \n",
    "\n",
    "\n",
    "The raw data file was obtained from https://catalog.data.gov/dataset/real-estate-sales-2001-2018. On the wbsite, the file is described to include\n",
    "\n",
    ">town, property address, date of sale, property type (residential, apartment, commercial, industrial or vacant land), sales price, and property assessment. \n",
    "\n",
    ">Annual real estate sales are reported by grand list year (October 1 through September 30 each year). For instance, sales from 2018 GL are from 10/01/2018 through 9/30/2019 (Data.gov).\n",
    "\n"
   ]
  },
  {
   "cell_type": "markdown",
   "id": "c9dd40db",
   "metadata": {},
   "source": [
    "Frequently used libraries are imported:"
   ]
  },
  {
   "cell_type": "code",
   "execution_count": 1,
   "id": "c0f38c08",
   "metadata": {},
   "outputs": [],
   "source": [
    "import numpy as np\n",
    "import pandas as pd\n",
    "import matplotlib.pyplot as plt\n",
    "import seaborn as sns\n",
    "from scipy import stats\n",
    "import plotly.express as px\n",
    "import plotly.graph_objects as go\n",
    "from plotly.subplots import make_subplots\n",
    "from bokeh.plotting import figure, show, output_notebook, output_file, reset_output\n",
    "output_notebook()\n",
    "from bokeh.layouts import gridplot\n",
    "from bokeh.models import HoverTool"
   ]
  },
  {
   "cell_type": "markdown",
   "id": "43e31980",
   "metadata": {},
   "source": [
    "The dataset imported from the csv file:"
   ]
  },
  {
   "cell_type": "code",
   "execution_count": 2,
   "id": "49d0dc73",
   "metadata": {},
   "outputs": [
    {
     "name": "stderr",
     "output_type": "stream",
     "text": [
      "/var/folders/kv/4xjj0g696_lcyc7ms5pdd2t00000gn/T/ipykernel_7591/3251242323.py:1: DtypeWarning: Columns (8,9,10,11,12) have mixed types. Specify dtype option on import or set low_memory=False.\n",
      "  real_estate=pd.read_csv('../data/Real_Estate_Sales_2001-2020_GL.csv')\n"
     ]
    }
   ],
   "source": [
    "real_estate=pd.read_csv('../data/Real_Estate_Sales_2001-2020_GL.csv')\n"
   ]
  },
  {
   "cell_type": "markdown",
   "id": "3b1af3b0",
   "metadata": {},
   "source": [
    "To get the basic idea about the dataset, 10 rows are called:"
   ]
  },
  {
   "cell_type": "code",
   "execution_count": 3,
   "id": "7c0ea1e8",
   "metadata": {},
   "outputs": [
    {
     "data": {
      "text/html": [
       "<div>\n",
       "<style scoped>\n",
       "    .dataframe tbody tr th:only-of-type {\n",
       "        vertical-align: middle;\n",
       "    }\n",
       "\n",
       "    .dataframe tbody tr th {\n",
       "        vertical-align: top;\n",
       "    }\n",
       "\n",
       "    .dataframe thead th {\n",
       "        text-align: right;\n",
       "    }\n",
       "</style>\n",
       "<table border=\"1\" class=\"dataframe\">\n",
       "  <thead>\n",
       "    <tr style=\"text-align: right;\">\n",
       "      <th></th>\n",
       "      <th>Serial Number</th>\n",
       "      <th>List Year</th>\n",
       "      <th>Date Recorded</th>\n",
       "      <th>Town</th>\n",
       "      <th>Address</th>\n",
       "      <th>Assessed Value</th>\n",
       "      <th>Sale Amount</th>\n",
       "      <th>Sales Ratio</th>\n",
       "      <th>Property Type</th>\n",
       "      <th>Residential Type</th>\n",
       "      <th>Non Use Code</th>\n",
       "      <th>Assessor Remarks</th>\n",
       "      <th>OPM remarks</th>\n",
       "      <th>Location</th>\n",
       "    </tr>\n",
       "  </thead>\n",
       "  <tbody>\n",
       "    <tr>\n",
       "      <th>577238</th>\n",
       "      <td>101236</td>\n",
       "      <td>2010</td>\n",
       "      <td>09/27/2011</td>\n",
       "      <td>Stamford</td>\n",
       "      <td>143 HOYT STREET # 2L</td>\n",
       "      <td>280040.0</td>\n",
       "      <td>330000.0</td>\n",
       "      <td>0.848606</td>\n",
       "      <td>Condo</td>\n",
       "      <td>Condo</td>\n",
       "      <td>NaN</td>\n",
       "      <td>NaN</td>\n",
       "      <td>NaN</td>\n",
       "      <td>NaN</td>\n",
       "    </tr>\n",
       "    <tr>\n",
       "      <th>719823</th>\n",
       "      <td>140098</td>\n",
       "      <td>2014</td>\n",
       "      <td>01/12/2015</td>\n",
       "      <td>Guilford</td>\n",
       "      <td>258 VILLAGE POND RD</td>\n",
       "      <td>271630.0</td>\n",
       "      <td>390000.0</td>\n",
       "      <td>0.696487</td>\n",
       "      <td>Single Family</td>\n",
       "      <td>Single Family</td>\n",
       "      <td>NaN</td>\n",
       "      <td>NaN</td>\n",
       "      <td>NaN</td>\n",
       "      <td>NaN</td>\n",
       "    </tr>\n",
       "    <tr>\n",
       "      <th>269474</th>\n",
       "      <td>40274</td>\n",
       "      <td>2004</td>\n",
       "      <td>05/23/2005</td>\n",
       "      <td>East Lyme</td>\n",
       "      <td>9 MACKINNON PL</td>\n",
       "      <td>267750.0</td>\n",
       "      <td>584500.0</td>\n",
       "      <td>0.458084</td>\n",
       "      <td>NaN</td>\n",
       "      <td>NaN</td>\n",
       "      <td>NaN</td>\n",
       "      <td>NaN</td>\n",
       "      <td>NaN</td>\n",
       "      <td>NaN</td>\n",
       "    </tr>\n",
       "    <tr>\n",
       "      <th>584149</th>\n",
       "      <td>110078</td>\n",
       "      <td>2011</td>\n",
       "      <td>03/22/2012</td>\n",
       "      <td>Bethel</td>\n",
       "      <td>39 BRIAR RIDGE DRIVE</td>\n",
       "      <td>307440.0</td>\n",
       "      <td>474353.0</td>\n",
       "      <td>0.648125</td>\n",
       "      <td>Condo</td>\n",
       "      <td>Condo</td>\n",
       "      <td>NaN</td>\n",
       "      <td>NaN</td>\n",
       "      <td>NaN</td>\n",
       "      <td>POINT (-73.41082 41.38526)</td>\n",
       "    </tr>\n",
       "    <tr>\n",
       "      <th>287408</th>\n",
       "      <td>40206</td>\n",
       "      <td>2004</td>\n",
       "      <td>03/30/2005</td>\n",
       "      <td>Plainfield</td>\n",
       "      <td>94C CANTERBURY RD</td>\n",
       "      <td>22950.0</td>\n",
       "      <td>90000.0</td>\n",
       "      <td>0.255000</td>\n",
       "      <td>NaN</td>\n",
       "      <td>NaN</td>\n",
       "      <td>NaN</td>\n",
       "      <td>NaN</td>\n",
       "      <td>NaN</td>\n",
       "      <td>POINT (-71.93024 41.68384)</td>\n",
       "    </tr>\n",
       "    <tr>\n",
       "      <th>207203</th>\n",
       "      <td>20584</td>\n",
       "      <td>2002</td>\n",
       "      <td>05/30/2003</td>\n",
       "      <td>Wallingford</td>\n",
       "      <td>2 LILY LN</td>\n",
       "      <td>35300.0</td>\n",
       "      <td>123256.0</td>\n",
       "      <td>0.286396</td>\n",
       "      <td>NaN</td>\n",
       "      <td>NaN</td>\n",
       "      <td>7.0</td>\n",
       "      <td>NaN</td>\n",
       "      <td>NaN</td>\n",
       "      <td>NaN</td>\n",
       "    </tr>\n",
       "    <tr>\n",
       "      <th>57379</th>\n",
       "      <td>200574</td>\n",
       "      <td>2020</td>\n",
       "      <td>07/16/2021</td>\n",
       "      <td>Trumbull</td>\n",
       "      <td>54 SAWMILL RD</td>\n",
       "      <td>236110.0</td>\n",
       "      <td>605000.0</td>\n",
       "      <td>0.390200</td>\n",
       "      <td>Residential</td>\n",
       "      <td>Single Family</td>\n",
       "      <td>07 - Change in Property</td>\n",
       "      <td>REMODELED</td>\n",
       "      <td>NaN</td>\n",
       "      <td>NaN</td>\n",
       "    </tr>\n",
       "    <tr>\n",
       "      <th>82798</th>\n",
       "      <td>11149</td>\n",
       "      <td>2001</td>\n",
       "      <td>09/09/2002</td>\n",
       "      <td>Manchester</td>\n",
       "      <td>470 BIRCH MTN RD</td>\n",
       "      <td>178900.0</td>\n",
       "      <td>300000.0</td>\n",
       "      <td>0.596333</td>\n",
       "      <td>NaN</td>\n",
       "      <td>NaN</td>\n",
       "      <td>NaN</td>\n",
       "      <td>NaN</td>\n",
       "      <td>NaN</td>\n",
       "      <td>NaN</td>\n",
       "    </tr>\n",
       "    <tr>\n",
       "      <th>375945</th>\n",
       "      <td>50824</td>\n",
       "      <td>2005</td>\n",
       "      <td>03/17/2006</td>\n",
       "      <td>Norwalk</td>\n",
       "      <td>10 MARK DR</td>\n",
       "      <td>273910.0</td>\n",
       "      <td>542500.0</td>\n",
       "      <td>0.504903</td>\n",
       "      <td>NaN</td>\n",
       "      <td>NaN</td>\n",
       "      <td>NaN</td>\n",
       "      <td>NaN</td>\n",
       "      <td>NaN</td>\n",
       "      <td>POINT (-73.39388 41.12967)</td>\n",
       "    </tr>\n",
       "    <tr>\n",
       "      <th>549761</th>\n",
       "      <td>101199</td>\n",
       "      <td>2010</td>\n",
       "      <td>07/14/2011</td>\n",
       "      <td>Bridgeport</td>\n",
       "      <td>507 EVERS STREET</td>\n",
       "      <td>139390.0</td>\n",
       "      <td>140000.0</td>\n",
       "      <td>0.995643</td>\n",
       "      <td>Single Family</td>\n",
       "      <td>Single Family</td>\n",
       "      <td>NaN</td>\n",
       "      <td>NaN</td>\n",
       "      <td>NaN</td>\n",
       "      <td>NaN</td>\n",
       "    </tr>\n",
       "  </tbody>\n",
       "</table>\n",
       "</div>"
      ],
      "text/plain": [
       "        Serial Number  List Year Date Recorded         Town  \\\n",
       "577238         101236       2010    09/27/2011     Stamford   \n",
       "719823         140098       2014    01/12/2015     Guilford   \n",
       "269474          40274       2004    05/23/2005    East Lyme   \n",
       "584149         110078       2011    03/22/2012       Bethel   \n",
       "287408          40206       2004    03/30/2005   Plainfield   \n",
       "207203          20584       2002    05/30/2003  Wallingford   \n",
       "57379          200574       2020    07/16/2021     Trumbull   \n",
       "82798           11149       2001    09/09/2002   Manchester   \n",
       "375945          50824       2005    03/17/2006      Norwalk   \n",
       "549761         101199       2010    07/14/2011   Bridgeport   \n",
       "\n",
       "                     Address  Assessed Value  Sale Amount  Sales Ratio  \\\n",
       "577238  143 HOYT STREET # 2L        280040.0     330000.0     0.848606   \n",
       "719823   258 VILLAGE POND RD        271630.0     390000.0     0.696487   \n",
       "269474        9 MACKINNON PL        267750.0     584500.0     0.458084   \n",
       "584149  39 BRIAR RIDGE DRIVE        307440.0     474353.0     0.648125   \n",
       "287408     94C CANTERBURY RD         22950.0      90000.0     0.255000   \n",
       "207203             2 LILY LN         35300.0     123256.0     0.286396   \n",
       "57379          54 SAWMILL RD        236110.0     605000.0     0.390200   \n",
       "82798       470 BIRCH MTN RD        178900.0     300000.0     0.596333   \n",
       "375945            10 MARK DR        273910.0     542500.0     0.504903   \n",
       "549761      507 EVERS STREET        139390.0     140000.0     0.995643   \n",
       "\n",
       "        Property Type Residential Type             Non Use Code  \\\n",
       "577238          Condo            Condo                      NaN   \n",
       "719823  Single Family    Single Family                      NaN   \n",
       "269474            NaN              NaN                      NaN   \n",
       "584149          Condo            Condo                      NaN   \n",
       "287408            NaN              NaN                      NaN   \n",
       "207203            NaN              NaN                      7.0   \n",
       "57379     Residential    Single Family  07 - Change in Property   \n",
       "82798             NaN              NaN                      NaN   \n",
       "375945            NaN              NaN                      NaN   \n",
       "549761  Single Family    Single Family                      NaN   \n",
       "\n",
       "       Assessor Remarks OPM remarks                    Location  \n",
       "577238              NaN         NaN                         NaN  \n",
       "719823              NaN         NaN                         NaN  \n",
       "269474              NaN         NaN                         NaN  \n",
       "584149              NaN         NaN  POINT (-73.41082 41.38526)  \n",
       "287408              NaN         NaN  POINT (-71.93024 41.68384)  \n",
       "207203              NaN         NaN                         NaN  \n",
       "57379         REMODELED         NaN                         NaN  \n",
       "82798               NaN         NaN                         NaN  \n",
       "375945              NaN         NaN  POINT (-73.39388 41.12967)  \n",
       "549761              NaN         NaN                         NaN  "
      ]
     },
     "execution_count": 3,
     "metadata": {},
     "output_type": "execute_result"
    }
   ],
   "source": [
    "real_estate.sample(10)"
   ]
  },
  {
   "cell_type": "markdown",
   "id": "0fe8043f",
   "metadata": {},
   "source": [
    "Findings:\n",
    "\n",
    "- Serial number does not match the index\n",
    "- Specific `Address`es and `Town`s are avilable\n",
    "- `Sales ratio` is `Assessed Value` / `Sale Amount`\n",
    "- NaN values for several columns\n",
    "- `Date Recorded` is date of sale according to the website.\n",
    "- Some rows in `Location` include longitude and latitude."
   ]
  },
  {
   "cell_type": "markdown",
   "id": "8a65f80a",
   "metadata": {},
   "source": [
    "Next, file types are checked:"
   ]
  },
  {
   "cell_type": "code",
   "execution_count": 14,
   "id": "63a98df5",
   "metadata": {
    "scrolled": false
   },
   "outputs": [
    {
     "name": "stdout",
     "output_type": "stream",
     "text": [
      "<class 'pandas.core.frame.DataFrame'>\n",
      "RangeIndex: 997213 entries, 0 to 997212\n",
      "Data columns (total 14 columns):\n",
      " #   Column            Non-Null Count   Dtype         \n",
      "---  ------            --------------   -----         \n",
      " 0   Serial Number     997213 non-null  int64         \n",
      " 1   List Year         997213 non-null  int64         \n",
      " 2   Date Recorded     997211 non-null  datetime64[ns]\n",
      " 3   Town              997213 non-null  object        \n",
      " 4   Address           997162 non-null  object        \n",
      " 5   Assessed Value    997213 non-null  float64       \n",
      " 6   Sale Amount       997213 non-null  float64       \n",
      " 7   Sales Ratio       997213 non-null  float64       \n",
      " 8   Property Type     614767 non-null  object        \n",
      " 9   Residential Type  608904 non-null  object        \n",
      " 10  Non Use Code      289681 non-null  object        \n",
      " 11  Assessor Remarks  149864 non-null  object        \n",
      " 12  OPM remarks       9934 non-null    object        \n",
      " 13  Location          197697 non-null  object        \n",
      "dtypes: datetime64[ns](1), float64(3), int64(2), object(8)\n",
      "memory usage: 106.5+ MB\n"
     ]
    }
   ],
   "source": [
    "real_estate.info()"
   ]
  },
  {
   "cell_type": "code",
   "execution_count": 8,
   "id": "8b115fe2",
   "metadata": {},
   "outputs": [
    {
     "data": {
      "text/plain": [
       "Serial Number            0\n",
       "List Year                0\n",
       "Date Recorded            2\n",
       "Town                     0\n",
       "Address                 51\n",
       "Assessed Value           0\n",
       "Sale Amount              0\n",
       "Sales Ratio              0\n",
       "Property Type       382446\n",
       "Residential Type    388309\n",
       "Non Use Code        707532\n",
       "Assessor Remarks    847349\n",
       "OPM remarks         987279\n",
       "Location            799516\n",
       "dtype: int64"
      ]
     },
     "execution_count": 8,
     "metadata": {},
     "output_type": "execute_result"
    }
   ],
   "source": [
    "#Missing values check\n",
    "real_estate.isna().sum()"
   ]
  },
  {
   "cell_type": "markdown",
   "id": "cd5b1cf2",
   "metadata": {},
   "source": [
    "Findings:\n",
    "   - `Date` column can be changed to DateTime format\n",
    "   - `Date Recorded`, `Town`, `Address`, `Assessed Value`, `Sale Amount`, `Sale Ratio` have very few missing values.\n",
    "   - About 1/3 of rows missing in `Property Type` and `Residential Type`.\n",
    "   - About 20% of the data has `Location` or longitude and latitude.\n",
    "   "
   ]
  },
  {
   "cell_type": "code",
   "execution_count": 11,
   "id": "fd4c0131",
   "metadata": {},
   "outputs": [],
   "source": [
    "#Change data type\n",
    "real_estate['Date Recorded'] = pd.to_datetime(real_estate['Date Recorded'])"
   ]
  },
  {
   "cell_type": "code",
   "execution_count": 16,
   "id": "176173b6",
   "metadata": {},
   "outputs": [
    {
     "data": {
      "text/html": [
       "<div>\n",
       "<style scoped>\n",
       "    .dataframe tbody tr th:only-of-type {\n",
       "        vertical-align: middle;\n",
       "    }\n",
       "\n",
       "    .dataframe tbody tr th {\n",
       "        vertical-align: top;\n",
       "    }\n",
       "\n",
       "    .dataframe thead th {\n",
       "        text-align: right;\n",
       "    }\n",
       "</style>\n",
       "<table border=\"1\" class=\"dataframe\">\n",
       "  <thead>\n",
       "    <tr style=\"text-align: right;\">\n",
       "      <th></th>\n",
       "      <th>Serial Number</th>\n",
       "      <th>List Year</th>\n",
       "      <th>Assessed Value</th>\n",
       "      <th>Sale Amount</th>\n",
       "      <th>Sales Ratio</th>\n",
       "    </tr>\n",
       "  </thead>\n",
       "  <tbody>\n",
       "    <tr>\n",
       "      <th>count</th>\n",
       "      <td>9.972130e+05</td>\n",
       "      <td>997213.000000</td>\n",
       "      <td>9.972130e+05</td>\n",
       "      <td>9.972130e+05</td>\n",
       "      <td>9.972130e+05</td>\n",
       "    </tr>\n",
       "    <tr>\n",
       "      <th>mean</th>\n",
       "      <td>4.311864e+05</td>\n",
       "      <td>2010.189829</td>\n",
       "      <td>2.791437e+05</td>\n",
       "      <td>3.911512e+05</td>\n",
       "      <td>1.044637e+01</td>\n",
       "    </tr>\n",
       "    <tr>\n",
       "      <th>std</th>\n",
       "      <td>6.549219e+06</td>\n",
       "      <td>6.237877</td>\n",
       "      <td>1.670610e+06</td>\n",
       "      <td>5.347270e+06</td>\n",
       "      <td>1.890192e+03</td>\n",
       "    </tr>\n",
       "    <tr>\n",
       "      <th>min</th>\n",
       "      <td>0.000000e+00</td>\n",
       "      <td>2001.000000</td>\n",
       "      <td>0.000000e+00</td>\n",
       "      <td>0.000000e+00</td>\n",
       "      <td>0.000000e+00</td>\n",
       "    </tr>\n",
       "    <tr>\n",
       "      <th>25%</th>\n",
       "      <td>3.044400e+04</td>\n",
       "      <td>2004.000000</td>\n",
       "      <td>8.760000e+04</td>\n",
       "      <td>1.400000e+05</td>\n",
       "      <td>4.867000e-01</td>\n",
       "    </tr>\n",
       "    <tr>\n",
       "      <th>50%</th>\n",
       "      <td>7.030300e+04</td>\n",
       "      <td>2010.000000</td>\n",
       "      <td>1.383900e+05</td>\n",
       "      <td>2.250000e+05</td>\n",
       "      <td>6.246000e-01</td>\n",
       "    </tr>\n",
       "    <tr>\n",
       "      <th>75%</th>\n",
       "      <td>1.518780e+05</td>\n",
       "      <td>2016.000000</td>\n",
       "      <td>2.255600e+05</td>\n",
       "      <td>3.650000e+05</td>\n",
       "      <td>7.852761e-01</td>\n",
       "    </tr>\n",
       "    <tr>\n",
       "      <th>max</th>\n",
       "      <td>2.000500e+09</td>\n",
       "      <td>2020.000000</td>\n",
       "      <td>8.815100e+08</td>\n",
       "      <td>5.000000e+09</td>\n",
       "      <td>1.226420e+06</td>\n",
       "    </tr>\n",
       "  </tbody>\n",
       "</table>\n",
       "</div>"
      ],
      "text/plain": [
       "       Serial Number      List Year  Assessed Value   Sale Amount  \\\n",
       "count   9.972130e+05  997213.000000    9.972130e+05  9.972130e+05   \n",
       "mean    4.311864e+05    2010.189829    2.791437e+05  3.911512e+05   \n",
       "std     6.549219e+06       6.237877    1.670610e+06  5.347270e+06   \n",
       "min     0.000000e+00    2001.000000    0.000000e+00  0.000000e+00   \n",
       "25%     3.044400e+04    2004.000000    8.760000e+04  1.400000e+05   \n",
       "50%     7.030300e+04    2010.000000    1.383900e+05  2.250000e+05   \n",
       "75%     1.518780e+05    2016.000000    2.255600e+05  3.650000e+05   \n",
       "max     2.000500e+09    2020.000000    8.815100e+08  5.000000e+09   \n",
       "\n",
       "        Sales Ratio  \n",
       "count  9.972130e+05  \n",
       "mean   1.044637e+01  \n",
       "std    1.890192e+03  \n",
       "min    0.000000e+00  \n",
       "25%    4.867000e-01  \n",
       "50%    6.246000e-01  \n",
       "75%    7.852761e-01  \n",
       "max    1.226420e+06  "
      ]
     },
     "execution_count": 16,
     "metadata": {},
     "output_type": "execute_result"
    }
   ],
   "source": [
    "real_estate.describe()"
   ]
  },
  {
   "cell_type": "code",
   "execution_count": 29,
   "id": "7201b492",
   "metadata": {
    "scrolled": false
   },
   "outputs": [
    {
     "name": "stdout",
     "output_type": "stream",
     "text": [
      "The column name is Serial Number\n",
      "\n",
      "The total number of unique values are: 83537\n",
      "\n",
      "The unique values are: [2020348   20002  200212 ... 1900749 1900695 1910419]\n",
      "\n",
      "\n",
      "\n",
      "\n",
      "The column name is List Year\n",
      "\n",
      "The total number of unique values are: 20\n",
      "\n",
      "The unique values are: [2020 2001 2002 2003 2004 2005 2006 2007 2008 2009 2010 2011 2012 2013\n",
      " 2014 2015 2016 2017 2018 2019]\n",
      "\n",
      "\n",
      "\n",
      "\n",
      "The column name is Date Recorded\n",
      "\n",
      "The total number of unique values are: 6387\n",
      "\n",
      "The unique values are: ['2021-09-13T00:00:00.000000000' '2020-10-02T00:00:00.000000000'\n",
      " '2021-03-09T00:00:00.000000000' ... '2020-04-12T00:00:00.000000000'\n",
      " '2020-03-21T00:00:00.000000000' '2020-03-07T00:00:00.000000000']\n",
      "\n",
      "\n",
      "\n",
      "\n",
      "The column name is Town\n",
      "\n",
      "The total number of unique values are: 170\n",
      "\n",
      "The unique values are: ['Ansonia' 'Ashford' 'Avon' 'Berlin' 'Bethany' 'Bethel' 'Bethlehem'\n",
      " 'Bloomfield' 'Branford' 'Bristol' 'Brookfield' 'Canaan' 'Canton'\n",
      " 'Cheshire' 'Chester' 'Colchester' 'Columbia' 'Cornwall' 'Coventry'\n",
      " 'Cromwell' 'Danbury' 'Derby' 'Eastford' 'East Haddam' 'East Haven'\n",
      " 'Farmington' 'Chaplin' 'Clinton' 'East Lyme' 'Easton' 'Enfield' 'Essex'\n",
      " 'Durham' 'Franklin' 'Glastonbury' 'Hamden' 'Granby' 'Greenwich'\n",
      " 'Colebrook' 'East Windsor' 'Griswold' 'Bolton' 'Groton' 'Guilford'\n",
      " 'Hartford' 'Harwinton' 'Milford' 'Killingly' 'Killingworth' 'Lebanon'\n",
      " 'Lisbon' 'Litchfield' 'Lyme' 'Manchester' 'Putnam' 'Norwalk' 'Stafford'\n",
      " 'Mansfield' 'Sherman' 'Meriden' 'Stratford' 'Roxbury' 'Oxford' 'Old Lyme'\n",
      " 'Norwich' 'Sharon' 'Monroe' 'Tolland' 'Torrington' 'Naugatuck'\n",
      " 'Ridgefield' 'New London' 'New Britain' 'Orange' 'New Canaan'\n",
      " 'New Fairfield' 'New Hartford' 'New Haven' 'Somers' 'Newtown'\n",
      " 'North Haven' 'West Haven' 'Morris' 'Thompson' 'Stonington' 'Stamford'\n",
      " 'Newington' 'Plainfield' 'Vernon' 'Plainville' 'Watertown'\n",
      " 'West Hartford' 'Plymouth' 'Portland' 'Redding' 'Warren' 'Rocky Hill'\n",
      " 'Salem' 'Winchester' 'Shelton' 'Simsbury' 'Windsor' 'Southbury'\n",
      " 'South Windsor' 'Brooklyn' 'Sterling' 'Ellington' 'Suffield' 'Thomaston'\n",
      " 'East Hartford' 'Trumbull' 'Fairfield' 'Ledyard' 'Washington' 'Waterbury'\n",
      " 'Hebron' 'Barkhamsted' 'Waterford' 'Westbrook' 'Wethersfield' 'Darien'\n",
      " 'Willington' 'Wilton' 'Windsor Locks' 'Wolcott' 'Woodbury' 'Woodstock'\n",
      " 'East Granby' 'Burlington' 'Bozrah' 'Goshen' 'Madison' 'Bridgeport'\n",
      " 'Bridgewater' 'Kent' 'Beacon Falls' 'Andover' 'Hampton' 'Montville'\n",
      " 'Prospect' 'Deep River' 'Southington' 'Norfolk' 'Westport' 'Windham'\n",
      " 'Wallingford' 'Weston' 'Voluntown' 'Middletown' 'Middlefield'\n",
      " 'Middlebury' 'Old Saybrook' 'North Canaan' 'Preston' 'Scotland' 'Sprague'\n",
      " 'Pomfret' 'Seymour' 'Woodbridge' 'Union' 'Haddam' 'Canterbury'\n",
      " 'Marlborough' 'New Milford' 'North Stonington' 'East Hampton' 'Hartland'\n",
      " 'Salisbury' 'North Branford' '***Unknown***']\n",
      "\n",
      "\n",
      "\n",
      "\n",
      "The column name is Address\n",
      "\n",
      "The total number of unique values are: 714371\n",
      "\n",
      "The unique values are: ['230 WAKELEE AVE' '390 TURNPIKE RD' '5 CHESTNUT DRIVE' ...\n",
      " '191 HUNTER DRIVE' '355 PIERPONT RD' '126 PERKINS AVE']\n",
      "\n",
      "\n",
      "\n",
      "\n",
      "The column name is Assessed Value\n",
      "\n",
      "The total number of unique values are: 91378\n",
      "\n",
      "The unique values are: [ 150500.  253000.  130400. ...  516990.  276740. 4035970.]\n",
      "\n",
      "\n",
      "\n",
      "\n",
      "The column name is Sale Amount\n",
      "\n",
      "The total number of unique values are: 57372\n",
      "\n",
      "The unique values are: [ 325000.  430000.  179900. ...  169504.  356021. 1134708.]\n",
      "\n",
      "\n",
      "\n",
      "\n",
      "The column name is Sales Ratio\n",
      "\n",
      "The total number of unique values are: 547044\n",
      "\n",
      "The unique values are: [0.463      0.5883     0.7248     ... 0.39486364 1.301625   1.13766478]\n",
      "\n",
      "\n",
      "\n",
      "\n",
      "The column name is Property Type\n",
      "\n",
      "The total number of unique values are: 11\n",
      "\n",
      "The unique values are: ['Commercial' 'Residential' 'Vacant Land' nan 'Apartments' 'Industrial'\n",
      " 'Public Utility' 'Condo' 'Two Family' 'Three Family' 'Single Family'\n",
      " 'Four Family']\n",
      "\n",
      "\n",
      "\n",
      "\n",
      "The column name is Residential Type\n",
      "\n",
      "The total number of unique values are: 5\n",
      "\n",
      "The unique values are: [nan 'Single Family' 'Condo' 'Two Family' 'Three Family' 'Four Family']\n",
      "\n",
      "\n",
      "\n",
      "\n",
      "The column name is Non Use Code\n",
      "\n",
      "The total number of unique values are: 106\n",
      "\n",
      "The unique values are: [nan '08 - Part Interest' '14 - Foreclosure' '25 - Other' '01 - Family'\n",
      " '12 - Non Buildable Lot' '7' '8' '28' '24' '1' '07 - Change in Property'\n",
      " '25' '3' '18' '6' '17' '12' '2' '15' '24 - Plottage'\n",
      " '28 - Use Assessment' '09 - Tax' '18 - In Lieu Of Foreclosure'\n",
      " '06 - Portion of Property' '17 - Two Towns' '10 - A Will'\n",
      " '16 - Charitable Group' '26 - Rehabilitation Deferred'\n",
      " '15 - Government Agency' '02 - Love and Affection' '11 - Court Order'\n",
      " '03 - Inter Corporation' '22 - Money and Personal Property'\n",
      " 'Single Family' '19 - Easement' '04 - Correcting Deed' '05 - Deed Date'\n",
      " '27 - CRUMBLING FOUNDATION ASSESSMENT REDUCTION' '13 - Bankrupcy'\n",
      " '30 - Auction' '21 - Personal Property Exchange' '23 - Zoning' '14'\n",
      " '20 - Cemetery' '29' '30' '19' '10' '11' '21' '4' '16'\n",
      " '29 - No Consideration' '13' '9' '22' '23' '5' '26' '33' '27' 7.0 8.0\n",
      " 13.0 28.0 6.0 25.0 3.0 10.0 16.0 27.0 2.0 12.0 11.0 14.0 17.0 1.0 4.0\n",
      " 24.0 15.0 29.0 18.0 22.0 5.0 30.0 21.0 23.0 19.0 9.0 20.0 26.0 73.0 68.0\n",
      " 31.0 48.0 38.0 37.0 55.0 32.0 '88' '37' '31' '34' '74' '32' '75']\n",
      "\n",
      "\n",
      "\n",
      "\n",
      "The column name is Assessor Remarks\n",
      "\n",
      "The total number of unique values are: 66508\n",
      "\n",
      "The unique values are: [nan 'WATERFRONT/COTTAGE ONLY/LAND IS ASSOCIATION OWNED'\n",
      " 'FORECLOSURE SALE OUT OF BANK' ... 'FAMILY & FARM LAND'\n",
      " 'FORECLOSURE BY SALE:  1-7-9-0' 'MOTIVATED SELLER -DIVORCE']\n",
      "\n",
      "\n",
      "\n",
      "\n",
      "The column name is OPM remarks\n",
      "\n",
      "The total number of unique values are: 4825\n",
      "\n",
      "The unique values are: [nan 'GAS STATION' 'GOOD SALE PER MLS' ... 'INCLUDES #19158'\n",
      " 'TOTAL RENOVATION PER MLS - SEE PREVIOUS SALE #1900075'\n",
      " 'PER MLS CLOSING PRICE = $1,145,000']\n",
      "\n",
      "\n",
      "\n",
      "\n",
      "The column name is Location\n",
      "\n",
      "The total number of unique values are: 130529\n",
      "\n",
      "The unique values are: [nan 'POINT (-73.18197 41.64672)' 'POINT (-72.22025 41.3942)' ...\n",
      " 'POINT (-72.80758 41.68147)' 'POINT (-72.96622 41.32883)'\n",
      " 'POINT (-72.07006 41.53315)']\n",
      "\n",
      "\n",
      "\n",
      "\n"
     ]
    }
   ],
   "source": [
    "for column in (real_estate.columns):\n",
    "    nunique_values = real_estate[column].nunique()\n",
    "    unique_values = real_estate[column].unique()\n",
    "    \n",
    "    print(f\"The column name is {column}\\n\")\n",
    "    print(f\"The total number of unique values are: {nunique_values}\\n\")\n",
    "    print(f\"The unique values are: {unique_values}\\n\\n\\n\\n\")"
   ]
  },
  {
   "cell_type": "code",
   "execution_count": null,
   "id": "489ca474",
   "metadata": {
    "scrolled": false
   },
   "outputs": [],
   "source": [
    "for column in (real_estate.columns):\n",
    "    print(column)\n",
    "    plt.figure()\n",
    "    plt.hist(real_estate[column].dropna())\n",
    "    plt.xlabel(column)\n",
    "    plt.ylabel('count')\n",
    "    plt.tight_layout()\n",
    "    plt.show()\n",
    "    print(\"\\n\\n\\n\")"
   ]
  },
  {
   "cell_type": "code",
   "execution_count": 13,
   "id": "042011b2",
   "metadata": {},
   "outputs": [
    {
     "name": "stderr",
     "output_type": "stream",
     "text": [
      "/var/folders/kv/4xjj0g696_lcyc7ms5pdd2t00000gn/T/ipykernel_7591/1560488043.py:1: FutureWarning: The default value of numeric_only in DataFrame.corr is deprecated. In a future version, it will default to False. Select only valid columns or specify the value of numeric_only to silence this warning.\n",
      "  corr_df = real_estate.corr()\n"
     ]
    },
    {
     "data": {
      "image/png": "[encoded data removed]",
      "text/plain": [
       "<Figure size 2000x2000 with 2 Axes>"
      ]
     },
     "metadata": {},
     "output_type": "display_data"
    }
   ],
   "source": [
    "corr_df = real_estate.corr()\n",
    "mask = np.triu(corr_df)\n",
    "plt.figure(figsize=(20,20))\n",
    "sns.heatmap(corr_df.round(2), annot=True,mask=mask, vmin=-1, vmax=1, cmap='coolwarm')\n",
    "plt.show()"
   ]
  },
  {
   "cell_type": "markdown",
   "id": "359db61e",
   "metadata": {},
   "source": [
    "Findings:\n",
    "   - `Assessed Value` and `Sale Amount` is weakly correlated (r=0.11)."
   ]
  },
  {
   "cell_type": "code",
   "execution_count": 15,
   "id": "206e6528",
   "metadata": {},
   "outputs": [
    {
     "data": {
      "text/plain": [
       "<seaborn.axisgrid.FacetGrid at 0x1519d0850>"
      ]
     },
     "execution_count": 15,
     "metadata": {},
     "output_type": "execute_result"
    },
    {
     "data": {
      "image/png": "[encoded data removed]",
      "text/plain": [
       "<Figure size 500x500 with 1 Axes>"
      ]
     },
     "metadata": {},
     "output_type": "display_data"
    }
   ],
   "source": [
    "sns.lmplot(x='List Year', y='Sale Amount', data=real_estate)"
   ]
  },
  {
   "cell_type": "code",
   "execution_count": 7,
   "id": "361737ae",
   "metadata": {},
   "outputs": [
    {
     "name": "stdout",
     "output_type": "stream",
     "text": [
      "       Serial Number  List Year Date Recorded        Town           Address  \\\n",
      "59835       20200091       2020    08/19/2021  Willington  456 TOLLAND TPKE   \n",
      "\n",
      "       Assessed Value   Sale Amount  Sales Ratio Property Type  \\\n",
      "59835       2238530.0  5.000000e+09     0.000448    Apartments   \n",
      "\n",
      "      Residential Type Non Use Code       Assessor Remarks  \\\n",
      "59835              NaN   25 - Other  APARTMENTS-COMMERICAL   \n",
      "\n",
      "                OPM remarks Location  \n",
      "59835  INCORRECT SALE PRICE      NaN  \n"
     ]
    }
   ],
   "source": [
    "# Assuming 'real_estate' is a pandas DataFrame with a 'Sale Amount' column\n",
    "print(real_estate[real_estate['Sale Amount'] == real_estate['Sale Amount'].max()])\n",
    "\n"
   ]
  },
  {
   "cell_type": "code",
   "execution_count": 8,
   "id": "f6a09025",
   "metadata": {},
   "outputs": [],
   "source": [
    "real_estate = real_estate.drop([real_estate.index[59835]])"
   ]
  },
  {
   "cell_type": "code",
   "execution_count": null,
   "id": "dd7d5090",
   "metadata": {},
   "outputs": [],
   "source": []
  },
  {
   "cell_type": "code",
   "execution_count": 9,
   "id": "3402aebb",
   "metadata": {},
   "outputs": [
    {
     "data": {
      "text/html": [
       "<div>\n",
       "<style scoped>\n",
       "    .dataframe tbody tr th:only-of-type {\n",
       "        vertical-align: middle;\n",
       "    }\n",
       "\n",
       "    .dataframe tbody tr th {\n",
       "        vertical-align: top;\n",
       "    }\n",
       "\n",
       "    .dataframe thead th {\n",
       "        text-align: right;\n",
       "    }\n",
       "</style>\n",
       "<table border=\"1\" class=\"dataframe\">\n",
       "  <thead>\n",
       "    <tr style=\"text-align: right;\">\n",
       "      <th></th>\n",
       "      <th>Serial Number</th>\n",
       "      <th>List Year</th>\n",
       "      <th>Date Recorded</th>\n",
       "      <th>Town</th>\n",
       "      <th>Address</th>\n",
       "      <th>Assessed Value</th>\n",
       "      <th>Sale Amount</th>\n",
       "      <th>Sales Ratio</th>\n",
       "      <th>Property Type</th>\n",
       "      <th>Residential Type</th>\n",
       "      <th>Non Use Code</th>\n",
       "      <th>Assessor Remarks</th>\n",
       "      <th>OPM remarks</th>\n",
       "      <th>Location</th>\n",
       "    </tr>\n",
       "  </thead>\n",
       "  <tbody>\n",
       "    <tr>\n",
       "      <th>799639</th>\n",
       "      <td>160393</td>\n",
       "      <td>2016</td>\n",
       "      <td>12/06/2016</td>\n",
       "      <td>Stamford</td>\n",
       "      <td>115 TOWNE STREET</td>\n",
       "      <td>50820110.0</td>\n",
       "      <td>395500000.0</td>\n",
       "      <td>0.128496</td>\n",
       "      <td>NaN</td>\n",
       "      <td>NaN</td>\n",
       "      <td>25 - Other</td>\n",
       "      <td>ENTERPRISE ZONE &amp; MULTIPLE PARCEL SALE</td>\n",
       "      <td>NaN</td>\n",
       "      <td>NaN</td>\n",
       "    </tr>\n",
       "    <tr>\n",
       "      <th>801957</th>\n",
       "      <td>160389</td>\n",
       "      <td>2016</td>\n",
       "      <td>12/06/2016</td>\n",
       "      <td>Stamford</td>\n",
       "      <td>200 HENRY STREET # 3</td>\n",
       "      <td>10829090.0</td>\n",
       "      <td>395500000.0</td>\n",
       "      <td>0.027381</td>\n",
       "      <td>NaN</td>\n",
       "      <td>NaN</td>\n",
       "      <td>25 - Other</td>\n",
       "      <td>ENTERPRISE ZONE &amp; MULTIPLE PARCEL SALE</td>\n",
       "      <td>NaN</td>\n",
       "      <td>POINT (-73.53597 41.0442)</td>\n",
       "    </tr>\n",
       "    <tr>\n",
       "      <th>825219</th>\n",
       "      <td>160390</td>\n",
       "      <td>2016</td>\n",
       "      <td>12/06/2016</td>\n",
       "      <td>Stamford</td>\n",
       "      <td>200 HENRY STREET # 4</td>\n",
       "      <td>10935790.0</td>\n",
       "      <td>395500000.0</td>\n",
       "      <td>0.027651</td>\n",
       "      <td>NaN</td>\n",
       "      <td>NaN</td>\n",
       "      <td>25 - Other</td>\n",
       "      <td>ENTERPRISE ZONE &amp; MULTIPLE PARCEL SALE</td>\n",
       "      <td>NaN</td>\n",
       "      <td>NaN</td>\n",
       "    </tr>\n",
       "    <tr>\n",
       "      <th>835231</th>\n",
       "      <td>160386</td>\n",
       "      <td>2016</td>\n",
       "      <td>12/06/2016</td>\n",
       "      <td>Stamford</td>\n",
       "      <td>120 TOWNE STREET</td>\n",
       "      <td>56144510.0</td>\n",
       "      <td>395500000.0</td>\n",
       "      <td>0.141958</td>\n",
       "      <td>NaN</td>\n",
       "      <td>NaN</td>\n",
       "      <td>25 - Other</td>\n",
       "      <td>ENTERPRISE ZONE &amp; MULTIPLE PARCEL SALE</td>\n",
       "      <td>NaN</td>\n",
       "      <td>POINT (-73.53568 41.04536)</td>\n",
       "    </tr>\n",
       "    <tr>\n",
       "      <th>839109</th>\n",
       "      <td>160394</td>\n",
       "      <td>2016</td>\n",
       "      <td>12/06/2016</td>\n",
       "      <td>Stamford</td>\n",
       "      <td>301-401 COMMONS PARK SOUTH # C</td>\n",
       "      <td>92447590.0</td>\n",
       "      <td>395500000.0</td>\n",
       "      <td>0.233749</td>\n",
       "      <td>NaN</td>\n",
       "      <td>NaN</td>\n",
       "      <td>25 - Other</td>\n",
       "      <td>ENTERPRISE ZONE &amp; MULTIPLE PARCEL SALE</td>\n",
       "      <td>NaN</td>\n",
       "      <td>NaN</td>\n",
       "    </tr>\n",
       "    <tr>\n",
       "      <th>844492</th>\n",
       "      <td>160388</td>\n",
       "      <td>2016</td>\n",
       "      <td>12/06/2016</td>\n",
       "      <td>Stamford</td>\n",
       "      <td>200 HENRY STREET # 2</td>\n",
       "      <td>3200720.0</td>\n",
       "      <td>395500000.0</td>\n",
       "      <td>0.008093</td>\n",
       "      <td>NaN</td>\n",
       "      <td>NaN</td>\n",
       "      <td>25 - Other</td>\n",
       "      <td>ENTERPRISE ZONE &amp; MULTIPLE PARCEL SALE</td>\n",
       "      <td>NaN</td>\n",
       "      <td>NaN</td>\n",
       "    </tr>\n",
       "    <tr>\n",
       "      <th>845330</th>\n",
       "      <td>160391</td>\n",
       "      <td>2016</td>\n",
       "      <td>12/06/2016</td>\n",
       "      <td>Stamford</td>\n",
       "      <td>200 HENRY STREET # 5</td>\n",
       "      <td>3307410.0</td>\n",
       "      <td>395500000.0</td>\n",
       "      <td>0.008363</td>\n",
       "      <td>NaN</td>\n",
       "      <td>NaN</td>\n",
       "      <td>25 - Other</td>\n",
       "      <td>ENTERPRISE ZONE &amp; MULTIPLE PARCEL SALE</td>\n",
       "      <td>NaN</td>\n",
       "      <td>NaN</td>\n",
       "    </tr>\n",
       "    <tr>\n",
       "      <th>847108</th>\n",
       "      <td>160387</td>\n",
       "      <td>2016</td>\n",
       "      <td>12/06/2016</td>\n",
       "      <td>Stamford</td>\n",
       "      <td>200 HENRY STREET # 1</td>\n",
       "      <td>10669060.0</td>\n",
       "      <td>395500000.0</td>\n",
       "      <td>0.026976</td>\n",
       "      <td>NaN</td>\n",
       "      <td>NaN</td>\n",
       "      <td>25 - Other</td>\n",
       "      <td>ENTERPRISE ZONE &amp; MULTIPLE PARCEL SALE</td>\n",
       "      <td>NaN</td>\n",
       "      <td>NaN</td>\n",
       "    </tr>\n",
       "    <tr>\n",
       "      <th>847797</th>\n",
       "      <td>160392</td>\n",
       "      <td>2016</td>\n",
       "      <td>12/06/2016</td>\n",
       "      <td>Stamford</td>\n",
       "      <td>110 TOWNE STREET</td>\n",
       "      <td>23290450.0</td>\n",
       "      <td>395500000.0</td>\n",
       "      <td>0.058889</td>\n",
       "      <td>NaN</td>\n",
       "      <td>NaN</td>\n",
       "      <td>25 - Other</td>\n",
       "      <td>ENTERPRISE ZONE &amp; MULTIPLE PARCEL SALE</td>\n",
       "      <td>NaN</td>\n",
       "      <td>NaN</td>\n",
       "    </tr>\n",
       "  </tbody>\n",
       "</table>\n",
       "</div>"
      ],
      "text/plain": [
       "        Serial Number  List Year Date Recorded      Town  \\\n",
       "799639         160393       2016    12/06/2016  Stamford   \n",
       "801957         160389       2016    12/06/2016  Stamford   \n",
       "825219         160390       2016    12/06/2016  Stamford   \n",
       "835231         160386       2016    12/06/2016  Stamford   \n",
       "839109         160394       2016    12/06/2016  Stamford   \n",
       "844492         160388       2016    12/06/2016  Stamford   \n",
       "845330         160391       2016    12/06/2016  Stamford   \n",
       "847108         160387       2016    12/06/2016  Stamford   \n",
       "847797         160392       2016    12/06/2016  Stamford   \n",
       "\n",
       "                               Address  Assessed Value  Sale Amount  \\\n",
       "799639                115 TOWNE STREET      50820110.0  395500000.0   \n",
       "801957            200 HENRY STREET # 3      10829090.0  395500000.0   \n",
       "825219            200 HENRY STREET # 4      10935790.0  395500000.0   \n",
       "835231                120 TOWNE STREET      56144510.0  395500000.0   \n",
       "839109  301-401 COMMONS PARK SOUTH # C      92447590.0  395500000.0   \n",
       "844492            200 HENRY STREET # 2       3200720.0  395500000.0   \n",
       "845330            200 HENRY STREET # 5       3307410.0  395500000.0   \n",
       "847108            200 HENRY STREET # 1      10669060.0  395500000.0   \n",
       "847797                110 TOWNE STREET      23290450.0  395500000.0   \n",
       "\n",
       "        Sales Ratio Property Type Residential Type Non Use Code  \\\n",
       "799639     0.128496           NaN              NaN   25 - Other   \n",
       "801957     0.027381           NaN              NaN   25 - Other   \n",
       "825219     0.027651           NaN              NaN   25 - Other   \n",
       "835231     0.141958           NaN              NaN   25 - Other   \n",
       "839109     0.233749           NaN              NaN   25 - Other   \n",
       "844492     0.008093           NaN              NaN   25 - Other   \n",
       "845330     0.008363           NaN              NaN   25 - Other   \n",
       "847108     0.026976           NaN              NaN   25 - Other   \n",
       "847797     0.058889           NaN              NaN   25 - Other   \n",
       "\n",
       "                              Assessor Remarks OPM remarks  \\\n",
       "799639  ENTERPRISE ZONE & MULTIPLE PARCEL SALE         NaN   \n",
       "801957  ENTERPRISE ZONE & MULTIPLE PARCEL SALE         NaN   \n",
       "825219  ENTERPRISE ZONE & MULTIPLE PARCEL SALE         NaN   \n",
       "835231  ENTERPRISE ZONE & MULTIPLE PARCEL SALE         NaN   \n",
       "839109  ENTERPRISE ZONE & MULTIPLE PARCEL SALE         NaN   \n",
       "844492  ENTERPRISE ZONE & MULTIPLE PARCEL SALE         NaN   \n",
       "845330  ENTERPRISE ZONE & MULTIPLE PARCEL SALE         NaN   \n",
       "847108  ENTERPRISE ZONE & MULTIPLE PARCEL SALE         NaN   \n",
       "847797  ENTERPRISE ZONE & MULTIPLE PARCEL SALE         NaN   \n",
       "\n",
       "                          Location  \n",
       "799639                         NaN  \n",
       "801957   POINT (-73.53597 41.0442)  \n",
       "825219                         NaN  \n",
       "835231  POINT (-73.53568 41.04536)  \n",
       "839109                         NaN  \n",
       "844492                         NaN  \n",
       "845330                         NaN  \n",
       "847108                         NaN  \n",
       "847797                         NaN  "
      ]
     },
     "execution_count": 9,
     "metadata": {},
     "output_type": "execute_result"
    }
   ],
   "source": [
    "real_estate[real_estate['Sale Amount'] == real_estate['Sale Amount'].max()]"
   ]
  },
  {
   "cell_type": "code",
   "execution_count": 10,
   "id": "0ccac705",
   "metadata": {
    "scrolled": false
   },
   "outputs": [
    {
     "data": {
      "text/plain": [
       "<Axes: xlabel='Property Type', ylabel='Sale Amount'>"
      ]
     },
     "execution_count": 10,
     "metadata": {},
     "output_type": "execute_result"
    },
    {
     "data": {
      "image/png": "[encoded data removed]",
      "text/plain": [
       "<Figure size 640x480 with 1 Axes>"
      ]
     },
     "metadata": {},
     "output_type": "display_data"
    }
   ],
   "source": [
    "sns.boxplot(x=\"Property Type\", y='Sale Amount', data=real_estate)"
   ]
  },
  {
   "cell_type": "code",
   "execution_count": 11,
   "id": "94865a08",
   "metadata": {},
   "outputs": [
    {
     "data": {
      "image/png": "[encoded data removed]",
      "text/plain": [
       "<Figure size 640x480 with 1 Axes>"
      ]
     },
     "metadata": {},
     "output_type": "display_data"
    }
   ],
   "source": [
    "plt.figure()\n",
    "plt.scatter(real_estate[\"Assessed Value\"], real_estate[\"Sale Amount\"])\n",
    "\n",
    "plt.show()"
   ]
  },
  {
   "cell_type": "code",
   "execution_count": 12,
   "id": "47aff2ea",
   "metadata": {},
   "outputs": [
    {
     "data": {
      "text/plain": [
       "<Axes: xlabel='List Year', ylabel='Sale Amount'>"
      ]
     },
     "execution_count": 12,
     "metadata": {},
     "output_type": "execute_result"
    },
    {
     "data": {
      "image/png": "[encoded data removed]",
      "text/plain": [
       "<Figure size 640x480 with 1 Axes>"
      ]
     },
     "metadata": {},
     "output_type": "display_data"
    }
   ],
   "source": [
    "sns.boxplot(x='List Year', y='Sale Amount', data=real_estate)"
   ]
  },
  {
   "cell_type": "code",
   "execution_count": 13,
   "id": "d666c1a4",
   "metadata": {},
   "outputs": [],
   "source": [
    "real_estate[\"Date Recorded\"] = pd.to_datetime(real_estate[\"Date Recorded\"])"
   ]
  },
  {
   "cell_type": "code",
   "execution_count": 14,
   "id": "d41585b9",
   "metadata": {},
   "outputs": [
    {
     "name": "stdout",
     "output_type": "stream",
     "text": [
      "<class 'pandas.core.frame.DataFrame'>\n",
      "Int64Index: 997212 entries, 0 to 997212\n",
      "Data columns (total 14 columns):\n",
      " #   Column            Non-Null Count   Dtype         \n",
      "---  ------            --------------   -----         \n",
      " 0   Serial Number     997212 non-null  int64         \n",
      " 1   List Year         997212 non-null  int64         \n",
      " 2   Date Recorded     997210 non-null  datetime64[ns]\n",
      " 3   Town              997212 non-null  object        \n",
      " 4   Address           997161 non-null  object        \n",
      " 5   Assessed Value    997212 non-null  float64       \n",
      " 6   Sale Amount       997212 non-null  float64       \n",
      " 7   Sales Ratio       997212 non-null  float64       \n",
      " 8   Property Type     614766 non-null  object        \n",
      " 9   Residential Type  608904 non-null  object        \n",
      " 10  Non Use Code      289680 non-null  object        \n",
      " 11  Assessor Remarks  149863 non-null  object        \n",
      " 12  OPM remarks       9933 non-null    object        \n",
      " 13  Location          197697 non-null  object        \n",
      "dtypes: datetime64[ns](1), float64(3), int64(2), object(8)\n",
      "memory usage: 114.1+ MB\n"
     ]
    }
   ],
   "source": [
    "real_estate.info()"
   ]
  },
  {
   "cell_type": "code",
   "execution_count": 15,
   "id": "cb192eb8",
   "metadata": {},
   "outputs": [
    {
     "data": {
      "text/html": [
       "<div>\n",
       "<style scoped>\n",
       "    .dataframe tbody tr th:only-of-type {\n",
       "        vertical-align: middle;\n",
       "    }\n",
       "\n",
       "    .dataframe tbody tr th {\n",
       "        vertical-align: top;\n",
       "    }\n",
       "\n",
       "    .dataframe thead th {\n",
       "        text-align: right;\n",
       "    }\n",
       "</style>\n",
       "<table border=\"1\" class=\"dataframe\">\n",
       "  <thead>\n",
       "    <tr style=\"text-align: right;\">\n",
       "      <th></th>\n",
       "      <th>Serial Number</th>\n",
       "      <th>List Year</th>\n",
       "      <th>Date Recorded</th>\n",
       "      <th>Town</th>\n",
       "      <th>Address</th>\n",
       "      <th>Assessed Value</th>\n",
       "      <th>Sale Amount</th>\n",
       "      <th>Sales Ratio</th>\n",
       "      <th>Property Type</th>\n",
       "      <th>Residential Type</th>\n",
       "      <th>Non Use Code</th>\n",
       "      <th>Assessor Remarks</th>\n",
       "      <th>OPM remarks</th>\n",
       "      <th>Location</th>\n",
       "    </tr>\n",
       "  </thead>\n",
       "  <tbody>\n",
       "    <tr>\n",
       "      <th>805641</th>\n",
       "      <td>160425</td>\n",
       "      <td>2016</td>\n",
       "      <td>2017-05-16</td>\n",
       "      <td>Wallingford</td>\n",
       "      <td>21 OLDE VILLAGE CIR</td>\n",
       "      <td>178300.0</td>\n",
       "      <td>283000.0</td>\n",
       "      <td>0.630035</td>\n",
       "      <td>Condo</td>\n",
       "      <td>Condo</td>\n",
       "      <td>NaN</td>\n",
       "      <td>NaN</td>\n",
       "      <td>NaN</td>\n",
       "      <td>NaN</td>\n",
       "    </tr>\n",
       "    <tr>\n",
       "      <th>295612</th>\n",
       "      <td>41638</td>\n",
       "      <td>2004</td>\n",
       "      <td>2005-06-29</td>\n",
       "      <td>Norwalk</td>\n",
       "      <td>21 LEVVINE ST</td>\n",
       "      <td>231210.0</td>\n",
       "      <td>593000.0</td>\n",
       "      <td>0.389899</td>\n",
       "      <td>NaN</td>\n",
       "      <td>NaN</td>\n",
       "      <td>NaN</td>\n",
       "      <td>NaN</td>\n",
       "      <td>NaN</td>\n",
       "      <td>NaN</td>\n",
       "    </tr>\n",
       "    <tr>\n",
       "      <th>126500</th>\n",
       "      <td>20362</td>\n",
       "      <td>2002</td>\n",
       "      <td>2003-01-23</td>\n",
       "      <td>Greenwich</td>\n",
       "      <td>13 CHAPEL LN</td>\n",
       "      <td>472150.0</td>\n",
       "      <td>1035000.0</td>\n",
       "      <td>0.456184</td>\n",
       "      <td>NaN</td>\n",
       "      <td>NaN</td>\n",
       "      <td>NaN</td>\n",
       "      <td>NaN</td>\n",
       "      <td>NaN</td>\n",
       "      <td>NaN</td>\n",
       "    </tr>\n",
       "    <tr>\n",
       "      <th>394627</th>\n",
       "      <td>60097</td>\n",
       "      <td>2006</td>\n",
       "      <td>2007-03-13</td>\n",
       "      <td>Granby</td>\n",
       "      <td>87 DAY ST</td>\n",
       "      <td>120120.0</td>\n",
       "      <td>263500.0</td>\n",
       "      <td>0.455863</td>\n",
       "      <td>Single Family</td>\n",
       "      <td>Single Family</td>\n",
       "      <td>NaN</td>\n",
       "      <td>NaN</td>\n",
       "      <td>NaN</td>\n",
       "      <td>NaN</td>\n",
       "    </tr>\n",
       "    <tr>\n",
       "      <th>784363</th>\n",
       "      <td>150063</td>\n",
       "      <td>2015</td>\n",
       "      <td>2016-06-15</td>\n",
       "      <td>Washington</td>\n",
       "      <td>102 BLACKVILLE RD</td>\n",
       "      <td>2250.0</td>\n",
       "      <td>38500.0</td>\n",
       "      <td>0.058442</td>\n",
       "      <td>NaN</td>\n",
       "      <td>NaN</td>\n",
       "      <td>15 - Government Agency</td>\n",
       "      <td>Eminent domain buy-out for Mallory Brook bridg...</td>\n",
       "      <td>NaN</td>\n",
       "      <td>POINT (-73.30273 41.64929)</td>\n",
       "    </tr>\n",
       "    <tr>\n",
       "      <th>436864</th>\n",
       "      <td>70307</td>\n",
       "      <td>2007</td>\n",
       "      <td>2008-04-29</td>\n",
       "      <td>Torrington</td>\n",
       "      <td>142 LOIS ST</td>\n",
       "      <td>83400.0</td>\n",
       "      <td>167500.0</td>\n",
       "      <td>0.497910</td>\n",
       "      <td>Single Family</td>\n",
       "      <td>Single Family</td>\n",
       "      <td>NaN</td>\n",
       "      <td>NaN</td>\n",
       "      <td>NaN</td>\n",
       "      <td>NaN</td>\n",
       "    </tr>\n",
       "    <tr>\n",
       "      <th>724592</th>\n",
       "      <td>140266</td>\n",
       "      <td>2014</td>\n",
       "      <td>2015-09-18</td>\n",
       "      <td>Windham</td>\n",
       "      <td>351 TUCKIE RD</td>\n",
       "      <td>15600.0</td>\n",
       "      <td>5000.0</td>\n",
       "      <td>3.120000</td>\n",
       "      <td>Single Family</td>\n",
       "      <td>Single Family</td>\n",
       "      <td>25 - Other</td>\n",
       "      <td>BELOW MARKET</td>\n",
       "      <td>NaN</td>\n",
       "      <td>NaN</td>\n",
       "    </tr>\n",
       "    <tr>\n",
       "      <th>34808</th>\n",
       "      <td>200970</td>\n",
       "      <td>2020</td>\n",
       "      <td>2021-08-18</td>\n",
       "      <td>Norwich</td>\n",
       "      <td>337 MOHEGAN PARK RD</td>\n",
       "      <td>111800.0</td>\n",
       "      <td>221650.0</td>\n",
       "      <td>0.504300</td>\n",
       "      <td>Residential</td>\n",
       "      <td>Two Family</td>\n",
       "      <td>NaN</td>\n",
       "      <td>NaN</td>\n",
       "      <td>NaN</td>\n",
       "      <td>NaN</td>\n",
       "    </tr>\n",
       "    <tr>\n",
       "      <th>89021</th>\n",
       "      <td>10128</td>\n",
       "      <td>2001</td>\n",
       "      <td>2001-12-27</td>\n",
       "      <td>Bloomfield</td>\n",
       "      <td>56 DARBY ST</td>\n",
       "      <td>52120.0</td>\n",
       "      <td>89000.0</td>\n",
       "      <td>0.585618</td>\n",
       "      <td>NaN</td>\n",
       "      <td>NaN</td>\n",
       "      <td>6</td>\n",
       "      <td>NaN</td>\n",
       "      <td>NaN</td>\n",
       "      <td>POINT (-72.69797 41.80816)</td>\n",
       "    </tr>\n",
       "    <tr>\n",
       "      <th>440569</th>\n",
       "      <td>71159</td>\n",
       "      <td>2007</td>\n",
       "      <td>2008-05-15</td>\n",
       "      <td>Bridgeport</td>\n",
       "      <td>69 SUNSHINE CIR</td>\n",
       "      <td>72800.0</td>\n",
       "      <td>62500.0</td>\n",
       "      <td>1.164800</td>\n",
       "      <td>Single Family</td>\n",
       "      <td>Single Family</td>\n",
       "      <td>14 - Foreclosure</td>\n",
       "      <td>NaN</td>\n",
       "      <td>NaN</td>\n",
       "      <td>NaN</td>\n",
       "    </tr>\n",
       "  </tbody>\n",
       "</table>\n",
       "</div>"
      ],
      "text/plain": [
       "        Serial Number  List Year Date Recorded         Town  \\\n",
       "805641         160425       2016    2017-05-16  Wallingford   \n",
       "295612          41638       2004    2005-06-29      Norwalk   \n",
       "126500          20362       2002    2003-01-23    Greenwich   \n",
       "394627          60097       2006    2007-03-13       Granby   \n",
       "784363         150063       2015    2016-06-15   Washington   \n",
       "436864          70307       2007    2008-04-29   Torrington   \n",
       "724592         140266       2014    2015-09-18      Windham   \n",
       "34808          200970       2020    2021-08-18      Norwich   \n",
       "89021           10128       2001    2001-12-27   Bloomfield   \n",
       "440569          71159       2007    2008-05-15   Bridgeport   \n",
       "\n",
       "                    Address  Assessed Value  Sale Amount  Sales Ratio  \\\n",
       "805641  21 OLDE VILLAGE CIR        178300.0     283000.0     0.630035   \n",
       "295612        21 LEVVINE ST        231210.0     593000.0     0.389899   \n",
       "126500         13 CHAPEL LN        472150.0    1035000.0     0.456184   \n",
       "394627            87 DAY ST        120120.0     263500.0     0.455863   \n",
       "784363    102 BLACKVILLE RD          2250.0      38500.0     0.058442   \n",
       "436864          142 LOIS ST         83400.0     167500.0     0.497910   \n",
       "724592        351 TUCKIE RD         15600.0       5000.0     3.120000   \n",
       "34808   337 MOHEGAN PARK RD        111800.0     221650.0     0.504300   \n",
       "89021           56 DARBY ST         52120.0      89000.0     0.585618   \n",
       "440569      69 SUNSHINE CIR         72800.0      62500.0     1.164800   \n",
       "\n",
       "        Property Type Residential Type            Non Use Code  \\\n",
       "805641          Condo            Condo                     NaN   \n",
       "295612            NaN              NaN                     NaN   \n",
       "126500            NaN              NaN                     NaN   \n",
       "394627  Single Family    Single Family                     NaN   \n",
       "784363            NaN              NaN  15 - Government Agency   \n",
       "436864  Single Family    Single Family                     NaN   \n",
       "724592  Single Family    Single Family              25 - Other   \n",
       "34808     Residential       Two Family                     NaN   \n",
       "89021             NaN              NaN                       6   \n",
       "440569  Single Family    Single Family        14 - Foreclosure   \n",
       "\n",
       "                                         Assessor Remarks OPM remarks  \\\n",
       "805641                                                NaN         NaN   \n",
       "295612                                                NaN         NaN   \n",
       "126500                                                NaN         NaN   \n",
       "394627                                                NaN         NaN   \n",
       "784363  Eminent domain buy-out for Mallory Brook bridg...         NaN   \n",
       "436864                                                NaN         NaN   \n",
       "724592                                       BELOW MARKET         NaN   \n",
       "34808                                                 NaN         NaN   \n",
       "89021                                                 NaN         NaN   \n",
       "440569                                                NaN         NaN   \n",
       "\n",
       "                          Location  \n",
       "805641                         NaN  \n",
       "295612                         NaN  \n",
       "126500                         NaN  \n",
       "394627                         NaN  \n",
       "784363  POINT (-73.30273 41.64929)  \n",
       "436864                         NaN  \n",
       "724592                         NaN  \n",
       "34808                          NaN  \n",
       "89021   POINT (-72.69797 41.80816)  \n",
       "440569                         NaN  "
      ]
     },
     "execution_count": 15,
     "metadata": {},
     "output_type": "execute_result"
    }
   ],
   "source": [
    "real_estate.sample(10)"
   ]
  },
  {
   "cell_type": "code",
   "execution_count": 16,
   "id": "3ed2bf04",
   "metadata": {},
   "outputs": [
    {
     "data": {
      "text/plain": [
       "array(['Ansonia', 'Ashford', 'Avon', 'Berlin', 'Bethany', 'Bethel',\n",
       "       'Bethlehem', 'Bloomfield', 'Branford', 'Bristol', 'Brookfield',\n",
       "       'Canaan', 'Canton', 'Cheshire', 'Chester', 'Colchester',\n",
       "       'Columbia', 'Cornwall', 'Coventry', 'Cromwell', 'Danbury', 'Derby',\n",
       "       'Eastford', 'East Haddam', 'East Haven', 'Farmington', 'Chaplin',\n",
       "       'Clinton', 'East Lyme', 'Easton', 'Enfield', 'Essex', 'Durham',\n",
       "       'Franklin', 'Glastonbury', 'Hamden', 'Granby', 'Greenwich',\n",
       "       'Colebrook', 'East Windsor', 'Griswold', 'Bolton', 'Groton',\n",
       "       'Guilford', 'Hartford', 'Harwinton', 'Milford', 'Killingly',\n",
       "       'Killingworth', 'Lebanon', 'Lisbon', 'Litchfield', 'Lyme',\n",
       "       'Manchester', 'Putnam', 'Norwalk', 'Stafford', 'Mansfield',\n",
       "       'Sherman', 'Meriden', 'Stratford', 'Roxbury', 'Oxford', 'Old Lyme',\n",
       "       'Norwich', 'Sharon', 'Monroe', 'Tolland', 'Torrington',\n",
       "       'Naugatuck', 'Ridgefield', 'New London', 'New Britain', 'Orange',\n",
       "       'New Canaan', 'New Fairfield', 'New Hartford', 'New Haven',\n",
       "       'Somers', 'Newtown', 'North Haven', 'West Haven', 'Morris',\n",
       "       'Thompson', 'Stonington', 'Stamford', 'Newington', 'Plainfield',\n",
       "       'Vernon', 'Plainville', 'Watertown', 'West Hartford', 'Plymouth',\n",
       "       'Portland', 'Redding', 'Warren', 'Rocky Hill', 'Salem',\n",
       "       'Winchester', 'Shelton', 'Simsbury', 'Windsor', 'Southbury',\n",
       "       'South Windsor', 'Brooklyn', 'Sterling', 'Ellington', 'Suffield',\n",
       "       'Thomaston', 'East Hartford', 'Trumbull', 'Fairfield', 'Ledyard',\n",
       "       'Washington', 'Waterbury', 'Hebron', 'Barkhamsted', 'Waterford',\n",
       "       'Westbrook', 'Wethersfield', 'Darien', 'Willington', 'Wilton',\n",
       "       'Windsor Locks', 'Wolcott', 'Woodbury', 'Woodstock', 'East Granby',\n",
       "       'Burlington', 'Bozrah', 'Goshen', 'Madison', 'Bridgeport',\n",
       "       'Bridgewater', 'Kent', 'Beacon Falls', 'Andover', 'Hampton',\n",
       "       'Montville', 'Prospect', 'Deep River', 'Southington', 'Norfolk',\n",
       "       'Westport', 'Windham', 'Wallingford', 'Weston', 'Voluntown',\n",
       "       'Middletown', 'Middlefield', 'Middlebury', 'Old Saybrook',\n",
       "       'North Canaan', 'Preston', 'Scotland', 'Sprague', 'Pomfret',\n",
       "       'Seymour', 'Woodbridge', 'Union', 'Haddam', 'Canterbury',\n",
       "       'Marlborough', 'New Milford', 'North Stonington', 'East Hampton',\n",
       "       'Hartland', 'Salisbury', 'North Branford', '***Unknown***'],\n",
       "      dtype=object)"
      ]
     },
     "execution_count": 16,
     "metadata": {},
     "output_type": "execute_result"
    }
   ],
   "source": [
    "real_estate[\"Town\"].unique()"
   ]
  },
  {
   "cell_type": "code",
   "execution_count": 17,
   "id": "1fd64f23",
   "metadata": {},
   "outputs": [
    {
     "data": {
      "text/plain": [
       "170"
      ]
     },
     "execution_count": 17,
     "metadata": {},
     "output_type": "execute_result"
    }
   ],
   "source": [
    "real_estate[\"Town\"].nunique()"
   ]
  },
  {
   "cell_type": "code",
   "execution_count": 18,
   "id": "1f323d92",
   "metadata": {},
   "outputs": [
    {
     "data": {
      "text/plain": [
       "Bridgeport       34201\n",
       "Stamford         32529\n",
       "Waterbury        28506\n",
       "Norwalk          23960\n",
       "New Haven        21346\n",
       "                 ...  \n",
       "Hartland           448\n",
       "Scotland           430\n",
       "Canaan             429\n",
       "Union              261\n",
       "***Unknown***        1\n",
       "Name: Town, Length: 170, dtype: int64"
      ]
     },
     "execution_count": 18,
     "metadata": {},
     "output_type": "execute_result"
    }
   ],
   "source": [
    "real_estate[\"Town\"].value_counts()"
   ]
  },
  {
   "cell_type": "code",
   "execution_count": 19,
   "id": "1337c7d1",
   "metadata": {},
   "outputs": [
    {
     "data": {
      "text/plain": [
       "array(['Commercial', 'Residential', 'Vacant Land', nan, 'Apartments',\n",
       "       'Industrial', 'Public Utility', 'Condo', 'Two Family',\n",
       "       'Three Family', 'Single Family', 'Four Family'], dtype=object)"
      ]
     },
     "execution_count": 19,
     "metadata": {},
     "output_type": "execute_result"
    }
   ],
   "source": [
    "real_estate[\"Property Type\"].unique()"
   ]
  },
  {
   "cell_type": "code",
   "execution_count": 20,
   "id": "2ceded42",
   "metadata": {},
   "outputs": [
    {
     "data": {
      "text/plain": [
       "11"
      ]
     },
     "execution_count": 20,
     "metadata": {},
     "output_type": "execute_result"
    }
   ],
   "source": [
    "real_estate[\"Property Type\"].nunique()"
   ]
  },
  {
   "cell_type": "code",
   "execution_count": 21,
   "id": "d443e7b8",
   "metadata": {},
   "outputs": [
    {
     "data": {
      "text/plain": [
       "array(['Commercial', 'Residential', 'Vacant Land', nan, 'Apartments',\n",
       "       'Industrial', 'Public Utility', 'Condo', 'Two Family',\n",
       "       'Three Family', 'Single Family', 'Four Family'], dtype=object)"
      ]
     },
     "execution_count": 21,
     "metadata": {},
     "output_type": "execute_result"
    }
   ],
   "source": [
    "real_estate[\"Property Type\"].unique()"
   ]
  },
  {
   "cell_type": "code",
   "execution_count": 22,
   "id": "49328513",
   "metadata": {},
   "outputs": [
    {
     "data": {
      "text/plain": [
       "Single Family     401612\n",
       "Condo             105420\n",
       "Residential        60728\n",
       "Two Family         26408\n",
       "Three Family       12586\n",
       "Vacant Land         3163\n",
       "Four Family         2150\n",
       "Commercial          1981\n",
       "Apartments           485\n",
       "Industrial           228\n",
       "Public Utility         5\n",
       "Name: Property Type, dtype: int64"
      ]
     },
     "execution_count": 22,
     "metadata": {},
     "output_type": "execute_result"
    }
   ],
   "source": [
    "real_estate[\"Property Type\"].value_counts()"
   ]
  },
  {
   "cell_type": "code",
   "execution_count": 23,
   "id": "a605d60c",
   "metadata": {},
   "outputs": [
    {
     "data": {
      "text/plain": [
       "<Axes: xlabel='Property Type', ylabel='Sale Amount'>"
      ]
     },
     "execution_count": 23,
     "metadata": {},
     "output_type": "execute_result"
    },
    {
     "data": {
      "image/png": "[encoded data removed]",
      "text/plain": [
       "<Figure size 640x480 with 1 Axes>"
      ]
     },
     "metadata": {},
     "output_type": "display_data"
    }
   ],
   "source": [
    "sns.boxplot(x=\"Property Type\", y='Sale Amount', data=real_estate)"
   ]
  },
  {
   "cell_type": "code",
   "execution_count": 24,
   "id": "6c00a4c1",
   "metadata": {},
   "outputs": [
    {
     "name": "stderr",
     "output_type": "stream",
     "text": [
      "/var/folders/kv/4xjj0g696_lcyc7ms5pdd2t00000gn/T/ipykernel_19341/1412154279.py:1: FutureWarning: The default value of numeric_only in DataFrameGroupBy.mean is deprecated. In a future version, numeric_only will default to False. Either specify numeric_only or select only columns which should be valid for the function.\n",
      "  plt.barh(real_estate.groupby('Property Type').mean()[\"Sale Amount\"].index, real_estate.groupby('Property Type').mean()[\"Sale Amount\"])\n",
      "/var/folders/kv/4xjj0g696_lcyc7ms5pdd2t00000gn/T/ipykernel_19341/1412154279.py:1: FutureWarning: The default value of numeric_only in DataFrameGroupBy.mean is deprecated. In a future version, numeric_only will default to False. Either specify numeric_only or select only columns which should be valid for the function.\n",
      "  plt.barh(real_estate.groupby('Property Type').mean()[\"Sale Amount\"].index, real_estate.groupby('Property Type').mean()[\"Sale Amount\"])\n"
     ]
    },
    {
     "data": {
      "text/plain": [
       "Text(0.5, 1.0, 'Mean Sale Amount by Property Type')"
      ]
     },
     "execution_count": 24,
     "metadata": {},
     "output_type": "execute_result"
    },
    {
     "data": {
      "image/png": "[encoded data removed]",
      "text/plain": [
       "<Figure size 640x480 with 1 Axes>"
      ]
     },
     "metadata": {},
     "output_type": "display_data"
    }
   ],
   "source": [
    "plt.barh(real_estate.groupby('Property Type').mean()[\"Sale Amount\"].index, real_estate.groupby('Property Type').mean()[\"Sale Amount\"])\n",
    "plt.xticks(rotation=45)\n",
    "plt.title('Mean Sale Amount by Property Type')\n"
   ]
  },
  {
   "cell_type": "code",
   "execution_count": 25,
   "id": "79d4f853",
   "metadata": {},
   "outputs": [
    {
     "data": {
      "text/plain": [
       "2004    84056\n",
       "2020    66591\n",
       "2003    64239\n",
       "2005    61602\n",
       "2002    59682\n",
       "2001    59584\n",
       "2019    58954\n",
       "2018    50709\n",
       "2016    49773\n",
       "2014    49563\n",
       "2006    48785\n",
       "2015    46651\n",
       "2017    45691\n",
       "2009    42508\n",
       "2013    39943\n",
       "2012    35973\n",
       "2007    35617\n",
       "2010    33491\n",
       "2008    32735\n",
       "2011    31065\n",
       "Name: List Year, dtype: int64"
      ]
     },
     "execution_count": 25,
     "metadata": {},
     "output_type": "execute_result"
    }
   ],
   "source": [
    "real_estate[\"List Year\"].value_counts()"
   ]
  },
  {
   "cell_type": "code",
   "execution_count": 26,
   "id": "dcc9f057",
   "metadata": {},
   "outputs": [
    {
     "name": "stderr",
     "output_type": "stream",
     "text": [
      "/var/folders/kv/4xjj0g696_lcyc7ms5pdd2t00000gn/T/ipykernel_19341/3408167422.py:1: FutureWarning: The default value of numeric_only in DataFrameGroupBy.mean is deprecated. In a future version, numeric_only will default to False. Either specify numeric_only or select only columns which should be valid for the function.\n",
      "  plt.barh(real_estate.groupby('List Year').mean()['Sale Amount'].index, real_estate.groupby('List Year').mean()[\"Sale Amount\"])\n",
      "/var/folders/kv/4xjj0g696_lcyc7ms5pdd2t00000gn/T/ipykernel_19341/3408167422.py:1: FutureWarning: The default value of numeric_only in DataFrameGroupBy.mean is deprecated. In a future version, numeric_only will default to False. Either specify numeric_only or select only columns which should be valid for the function.\n",
      "  plt.barh(real_estate.groupby('List Year').mean()['Sale Amount'].index, real_estate.groupby('List Year').mean()[\"Sale Amount\"])\n"
     ]
    },
    {
     "data": {
      "text/plain": [
       "Text(0.5, 1.0, 'Mean Sale Amount by List Year')"
      ]
     },
     "execution_count": 26,
     "metadata": {},
     "output_type": "execute_result"
    },
    {
     "data": {
      "image/png": "[encoded data removed]",
      "text/plain": [
       "<Figure size 640x480 with 1 Axes>"
      ]
     },
     "metadata": {},
     "output_type": "display_data"
    }
   ],
   "source": [
    "plt.barh(real_estate.groupby('List Year').mean()['Sale Amount'].index, real_estate.groupby('List Year').mean()[\"Sale Amount\"])\n",
    "plt.xticks(rotation=45)\n",
    "plt.title('Mean Sale Amount by List Year')\n"
   ]
  }
 ],
 "metadata": {
  "kernelspec": {
   "display_name": "Python 3 (ipykernel)",
   "language": "python",
   "name": "python3"
  },
  "language_info": {
   "codemirror_mode": {
    "name": "ipython",
    "version": 3
   },
   "file_extension": ".py",
   "mimetype": "text/x-python",
   "name": "python",
   "nbconvert_exporter": "python",
   "pygments_lexer": "ipython3",
   "version": "3.11.3"
  }
 },
 "nbformat": 4,
 "nbformat_minor": 5
}
