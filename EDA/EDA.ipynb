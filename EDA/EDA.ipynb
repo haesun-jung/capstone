{
 "cells": [
  {
   "cell_type": "markdown",
   "id": "65ac3d6d",
   "metadata": {},
   "source": [
    "# Exploratory Data Analysis (EDA)\n",
    "\n",
    "This is an EDA performed on the real estate market trends in Conneticut. \n",
    "\n",
    "\n",
    "The raw data file was obtained from https://catalog.data.gov/dataset/real-estate-sales-2001-2018. On the wbsite, the file is described to include\n",
    "\n",
    ">town, property address, date of sale, property type (residential, apartment, commercial, industrial or vacant land), sales price, and property assessment. \n",
    "\n",
    ">Annual real estate sales are reported by grand list year (October 1 through September 30 each year). For instance, sales from 2018 GL are from 10/01/2018 through 9/30/2019 (Data.gov).\n",
    "\n"
   ]
  },
  {
   "cell_type": "markdown",
   "id": "1916d457",
   "metadata": {},
   "source": [
    "Frequently used libraries are imported:"
   ]
  },
  {
   "cell_type": "code",
   "execution_count": null,
   "id": "c0f38c08",
   "metadata": {},
   "outputs": [],
   "source": [
    "import numpy as np\n",
    "import pandas as pd\n",
    "import matplotlib.pyplot as plt\n",
    "import seaborn as sns\n",
    "from scipy import stats\n",
    "import plotly.express as px\n",
    "import plotly.graph_objects as go\n",
    "from plotly.subplots import make_subplots\n",
    "from bokeh.plotting import figure, show, output_notebook, output_file, reset_output\n",
    "output_notebook()\n",
    "from bokeh.layouts import gridplot\n",
    "from bokeh.models import HoverTool"
   ]
  },
  {
   "cell_type": "markdown",
   "id": "1b691a43",
   "metadata": {},
   "source": [
    "The dataset imported from the csv file:"
   ]
  },
  {
   "cell_type": "code",
   "execution_count": null,
   "id": "49d0dc73",
   "metadata": {},
   "outputs": [],
   "source": [
    "real_estate=pd.read_csv('')\n"
   ]
  },
  {
   "cell_type": "markdown",
   "id": "b9c7d4de",
   "metadata": {},
   "source": [
    "To get the basic idea about the dataset, 10 rows are called:"
   ]
  },
  {
   "cell_type": "code",
   "execution_count": null,
   "id": "7c0ea1e8",
   "metadata": {},
   "outputs": [],
   "source": [
    "real_estate.sample(10)"
   ]
  },
  {
   "cell_type": "markdown",
   "id": "81301185",
   "metadata": {},
   "source": [
    "Findings:\n",
    "\n",
    "- Serial number does not match the index\n",
    "- Specific `Address`es and `Town`s are avilable\n",
    "- `Sales ratio` is `Assessed Value` / `Sale Amount`\n",
    "- NaN values for several columns\n",
    "- `Date Recorded` is date of sale according to the website.\n",
    "- Some rows in `Location` include longitude and latitude."
   ]
  },
  {
   "cell_type": "markdown",
   "id": "4377c12d",
   "metadata": {},
   "source": [
    "Next, file types are checked:"
   ]
  },
  {
   "cell_type": "code",
   "execution_count": null,
   "id": "63a98df5",
   "metadata": {
    "scrolled": false
   },
   "outputs": [],
   "source": [
    "real_estate.info()"
   ]
  },
  {
   "cell_type": "code",
   "execution_count": null,
   "id": "904f2dd4",
   "metadata": {},
   "outputs": [],
   "source": [
    "#Missing values check\n",
    "real_estate.isna().sum()"
   ]
  },
  {
   "cell_type": "markdown",
   "id": "b647e919",
   "metadata": {},
   "source": [
    "Findings:\n",
    "   - `Date` column can be changed to DateTime format\n",
    "   - `Date Recorded`, `Town`, `Address`, `Assessed Value`, `Sale Amount`, `Sale Ratio` have very few missing values.\n",
    "   - About 1/3 of rows missing in `Property Type` and `Residential Type`.\n",
    "   - About 20% of the data has `Location` or longitude and latitude.\n",
    "   "
   ]
  },
  {
   "cell_type": "code",
   "execution_count": null,
   "id": "4d55c118",
   "metadata": {},
   "outputs": [],
   "source": [
    "#Change data type\n",
    "real_estate['Date Recorded'] = pd.to_datetime(real_estate['Date Recorded'])"
   ]
  },
  {
   "cell_type": "code",
   "execution_count": null,
   "id": "176173b6",
   "metadata": {},
   "outputs": [],
   "source": [
    "real_estate.describe()"
   ]
  },
  {
   "cell_type": "code",
   "execution_count": null,
   "id": "cb9a0023",
   "metadata": {
    "scrolled": false
   },
   "outputs": [],
   "source": [
    "for column in (real_estate.columns):\n",
    "    nunique_values = real_estate[column].nunique()\n",
    "    unique_values = real_estate[column].unique()\n",
    "    value_counts = real_estate[column].value_counts()\n",
    "    \n",
    "    print(f\"The column name is {column}\\n\")\n",
    "    print(f\"The total number of unique values are: {nunique_values}\\n\")\n",
    "    print(f\"The unique values are: {unique_values}\\n\\n\\n\\n\")\n",
    "    print(f\"The value counts are: {value_counts}\\n\\n\\n\\n\")"
   ]
  },
  {
   "cell_type": "code",
   "execution_count": null,
   "id": "9325001f",
   "metadata": {
    "scrolled": false
   },
   "outputs": [],
   "source": [
    "for column in (real_estate.columns):\n",
    "    print(column)\n",
    "    plt.figure()\n",
    "    plt.hist(real_estate[column])\n",
    "    plt.xlabel(column)\n",
    "    plt.ylabel('count')\n",
    "    plt.tight_layout()\n",
    "    plt.show()"
   ]
  },
  {
   "cell_type": "code",
   "execution_count": null,
   "id": "94a63f52",
   "metadata": {},
   "outputs": [],
   "source": [
    "corr_df = real_estate.corr()\n",
    "mask = np.triu(corr_df)\n",
    "plt.figure(figsize=(20,20))\n",
    "sns.heatmap(corr_df.round(2), annot=True,mask=mask, vmin=-1, vmax=1, cmap='coolwarm')\n",
    "plt.show()"
   ]
  },
  {
   "cell_type": "markdown",
   "id": "9539c8ac",
   "metadata": {},
   "source": [
    "Findings:\n",
    "   - `Assessed Value` and `Sale Amount` is weakly correlated (r=0.11)."
   ]
  },
  {
   "cell_type": "code",
   "execution_count": null,
   "id": "206e6528",
   "metadata": {},
   "outputs": [],
   "source": [
    "sns.lmplot(x='List Year', y='Sale Amount', data=real_estate)"
   ]
  },
  {
   "cell_type": "code",
   "execution_count": null,
   "id": "361737ae",
   "metadata": {},
   "outputs": [],
   "source": [
    "# Assuming 'real_estate' is a pandas DataFrame with a 'Sale Amount' column\n",
    "print(real_estate[real_estate['Sale Amount'] == real_estate['Sale Amount'].max()])\n",
    "\n"
   ]
  },
  {
   "cell_type": "code",
   "execution_count": null,
   "id": "f6a09025",
   "metadata": {},
   "outputs": [],
   "source": [
    "real_estate = real_estate.drop([real_estate.index[59835]])"
   ]
  },
  {
   "cell_type": "code",
   "execution_count": null,
   "id": "dd7d5090",
   "metadata": {},
   "outputs": [],
   "source": []
  },
  {
   "cell_type": "code",
   "execution_count": null,
   "id": "3402aebb",
   "metadata": {
    "scrolled": true
   },
   "outputs": [],
   "source": [
    "real_estate[real_estate['Sale Amount'] == real_estate['Sale Amount'].max()]"
   ]
  },
  {
   "cell_type": "code",
   "execution_count": null,
   "id": "0ccac705",
   "metadata": {
    "scrolled": false
   },
   "outputs": [],
   "source": [
    "sns.boxplot(x=\"Property Type\", y='Sale Amount', data=real_estate)"
   ]
  },
  {
   "cell_type": "code",
   "execution_count": null,
   "id": "94865a08",
   "metadata": {},
   "outputs": [],
   "source": [
    "plt.figure()\n",
    "plt.scatter(real_estate[\"Assessed Value\"], real_estate[\"Sale Amount\"])\n",
    "\n",
    "plt.show()"
   ]
  },
  {
   "cell_type": "code",
   "execution_count": null,
   "id": "47aff2ea",
   "metadata": {},
   "outputs": [],
   "source": [
    "sns.boxplot(x='List Year', y='Sale Amount', data=real_estate)"
   ]
  },
  {
   "cell_type": "code",
   "execution_count": null,
   "id": "d666c1a4",
   "metadata": {},
   "outputs": [],
   "source": []
  },
  {
   "cell_type": "code",
   "execution_count": null,
   "id": "a605d60c",
   "metadata": {},
   "outputs": [],
   "source": [
    "sns.boxplot(x=\"Property Type\", y='Sale Amount', data=real_estate)"
   ]
  },
  {
   "cell_type": "code",
   "execution_count": null,
   "id": "6c00a4c1",
   "metadata": {
    "scrolled": false
   },
   "outputs": [],
   "source": [
    "plt.barh(real_estate.groupby('Property Type').mean()[\"Sale Amount\"].index, real_estate.groupby('Property Type').mean()[\"Sale Amount\"])\n",
    "plt.xticks(rotation=45)\n",
    "plt.title('Mean Sale Amount by Property Type')\n"
   ]
  },
  {
   "cell_type": "code",
   "execution_count": null,
   "id": "dcc9f057",
   "metadata": {},
   "outputs": [],
   "source": [
    "plt.barh(real_estate.groupby('List Year').mean()['Sale Amount'].index, real_estate.groupby('List Year').mean()[\"Sale Amount\"])\n",
    "plt.xticks(rotation=45)\n",
    "plt.title('Mean Sale Amount by List Year')\n"
   ]
  }
 ],
 "metadata": {
  "kernelspec": {
   "display_name": "Python 3 (ipykernel)",
   "language": "python",
   "name": "python3"
  },
  "language_info": {
   "codemirror_mode": {
    "name": "ipython",
    "version": 3
   },
   "file_extension": ".py",
   "mimetype": "text/x-python",
   "name": "python",
   "nbconvert_exporter": "python",
   "pygments_lexer": "ipython3",
   "version": "3.11.3"
  }
 },
 "nbformat": 4,
 "nbformat_minor": 5
}
