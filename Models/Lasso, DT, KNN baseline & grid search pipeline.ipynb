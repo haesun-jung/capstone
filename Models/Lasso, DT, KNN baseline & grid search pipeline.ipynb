{
 "cells": [
  {
   "cell_type": "markdown",
   "id": "65ac3d6d",
   "metadata": {
    "id": "65ac3d6d"
   },
   "source": [
    "# Modeling"
   ]
  },
  {
   "cell_type": "markdown",
   "id": "1916d457",
   "metadata": {
    "id": "1916d457"
   },
   "source": [
    "Frequently used libraries are imported.\n",
    "The dataset imported from the csv file."
   ]
  },
  {
   "cell_type": "code",
   "execution_count": 24,
   "id": "acc4c5da",
   "metadata": {
    "id": "acc4c5da"
   },
   "outputs": [],
   "source": [
    "import numpy as np\n",
    "import pandas as pd\n",
    "import matplotlib.pyplot as plt\n",
    "import seaborn as sns\n",
    "from scipy import stats\n",
    "import plotly.express as px\n",
    "import plotly.graph_objects as go\n",
    "from plotly.subplots import make_subplots\n",
    "from bokeh.plotting import figure, show, output_notebook, output_file, reset_output\n",
    "from bokeh.layouts import gridplot\n",
    "from bokeh.models import HoverTool\n",
    "import statsmodels.api as sm\n",
    "from scipy import stats\n",
    "from sklearn.linear_model import LogisticRegression, LinearRegression\n",
    "from sklearn.model_selection import train_test_split\n",
    "from sklearn.feature_extraction.text import CountVectorizer, TfidfVectorizer\n",
    "import nltk\n",
    "from nltk.stem import WordNetLemmatizer\n",
    "from nltk.corpus import stopwords\n",
    "from sklearn.preprocessing import StandardScaler, MinMaxScaler, RobustScaler\n",
    "from sklearn.decomposition import PCA\n",
    "from sklearn.neighbors import KNeighborsClassifier\n",
    "from sklearn.tree import DecisionTreeClassifier\n",
    "from sklearn.model_selection import GridSearchCV\n",
    "from sklearn.pipeline import Pipeline\n",
    "import re\n",
    "import nltk\n",
    "from string import punctuation\n",
    "from sklearn.feature_extraction.text import CountVectorizer\n",
    "import pandas as pd\n",
    "import string\n",
    "from sklearn.feature_selection import f_regression\n",
    "from sklearn.linear_model import LinearRegression\n",
    "from sklearn.feature_selection import SelectKBest\n",
    "from sklearn.feature_selection import f_classif\n",
    "from sklearn.metrics import r2_score\n",
    "from sklearn.pipeline import Pipeline\n",
    "from sklearn.model_selection import GridSearchCV\n",
    "from sklearn.model_selection import RandomizedSearchCV"
   ]
  },
  {
   "cell_type": "markdown",
   "id": "d5b34741-1198-4d87-bbb3-72c55a9f8f80",
   "metadata": {},
   "source": [
    "Import the file:"
   ]
  },
  {
   "cell_type": "code",
   "execution_count": 2,
   "id": "28ed804a",
   "metadata": {
    "colab": {
     "base_uri": "https://localhost:8080/",
     "height": 1000
    },
    "id": "28ed804a",
    "outputId": "a5091431-3992-4155-d527-7842899f97b7",
    "scrolled": true
   },
   "outputs": [
    {
     "name": "stderr",
     "output_type": "stream",
     "text": [
      "/var/folders/kv/4xjj0g696_lcyc7ms5pdd2t00000gn/T/ipykernel_75591/1168842263.py:3: DtypeWarning: Columns (9,10,12,13) have mixed types. Specify dtype option on import or set low_memory=False.\n",
      "  real_estate=pd.read_csv(file_path)\n"
     ]
    },
    {
     "data": {
      "text/html": [
       "<div>\n",
       "<style scoped>\n",
       "    .dataframe tbody tr th:only-of-type {\n",
       "        vertical-align: middle;\n",
       "    }\n",
       "\n",
       "    .dataframe tbody tr th {\n",
       "        vertical-align: top;\n",
       "    }\n",
       "\n",
       "    .dataframe thead th {\n",
       "        text-align: right;\n",
       "    }\n",
       "</style>\n",
       "<table border=\"1\" class=\"dataframe\">\n",
       "  <thead>\n",
       "    <tr style=\"text-align: right;\">\n",
       "      <th></th>\n",
       "      <th>Unnamed: 0</th>\n",
       "      <th>Serial Number</th>\n",
       "      <th>List Year</th>\n",
       "      <th>Date Recorded</th>\n",
       "      <th>Town</th>\n",
       "      <th>Address</th>\n",
       "      <th>Assessed Value</th>\n",
       "      <th>Sale Amount</th>\n",
       "      <th>Sales Ratio</th>\n",
       "      <th>Property Type</th>\n",
       "      <th>Residential Type</th>\n",
       "      <th>Non Use Code</th>\n",
       "      <th>Assessor Remarks</th>\n",
       "      <th>OPM remarks</th>\n",
       "      <th>Location</th>\n",
       "      <th>Full Address</th>\n",
       "      <th>latitude</th>\n",
       "      <th>longitude</th>\n",
       "      <th>month_recorded</th>\n",
       "      <th>year_recorded</th>\n",
       "    </tr>\n",
       "  </thead>\n",
       "  <tbody>\n",
       "    <tr>\n",
       "      <th>405123</th>\n",
       "      <td>417341</td>\n",
       "      <td>180149</td>\n",
       "      <td>2018</td>\n",
       "      <td>2018-12-18</td>\n",
       "      <td>Enfield</td>\n",
       "      <td>22 PARKY DR</td>\n",
       "      <td>120530.0</td>\n",
       "      <td>169900.0</td>\n",
       "      <td>0.709400</td>\n",
       "      <td>Single Family</td>\n",
       "      <td>Single Family</td>\n",
       "      <td>25.0</td>\n",
       "      <td>SOLD AS IS</td>\n",
       "      <td>NaN</td>\n",
       "      <td>POINT (-72.57531 41.94218)</td>\n",
       "      <td>22, Parky Dr, Enfield, Connecticut, United States</td>\n",
       "      <td>-72.575310</td>\n",
       "      <td>41.942180</td>\n",
       "      <td>12</td>\n",
       "      <td>2018</td>\n",
       "    </tr>\n",
       "    <tr>\n",
       "      <th>13944</th>\n",
       "      <td>14713</td>\n",
       "      <td>200302</td>\n",
       "      <td>2020</td>\n",
       "      <td>2021-02-10</td>\n",
       "      <td>Glastonbury</td>\n",
       "      <td>291 WICKHAM RD</td>\n",
       "      <td>239700.0</td>\n",
       "      <td>301500.0</td>\n",
       "      <td>0.795000</td>\n",
       "      <td>Residential</td>\n",
       "      <td>Two Family</td>\n",
       "      <td>25.0</td>\n",
       "      <td>AS-IS SALE</td>\n",
       "      <td>NaN</td>\n",
       "      <td>NaN</td>\n",
       "      <td>291, Wickham Rd, Glastonbury, Connecticut, Uni...</td>\n",
       "      <td>41.708004</td>\n",
       "      <td>-72.559483</td>\n",
       "      <td>2</td>\n",
       "      <td>2021</td>\n",
       "    </tr>\n",
       "    <tr>\n",
       "      <th>168059</th>\n",
       "      <td>174252</td>\n",
       "      <td>60794</td>\n",
       "      <td>2006</td>\n",
       "      <td>2007-06-25</td>\n",
       "      <td>Fairfield</td>\n",
       "      <td>646 MILL HL TER</td>\n",
       "      <td>412720.0</td>\n",
       "      <td>163333.0</td>\n",
       "      <td>2.526862</td>\n",
       "      <td>Single Family</td>\n",
       "      <td>Single Family</td>\n",
       "      <td>8.0</td>\n",
       "      <td>NaN</td>\n",
       "      <td>NaN</td>\n",
       "      <td>NaN</td>\n",
       "      <td>646, Mill Hl Ter, Fairfield, Connecticut, Unit...</td>\n",
       "      <td>41.146329</td>\n",
       "      <td>-73.282521</td>\n",
       "      <td>6</td>\n",
       "      <td>2007</td>\n",
       "    </tr>\n",
       "    <tr>\n",
       "      <th>135367</th>\n",
       "      <td>141560</td>\n",
       "      <td>52062</td>\n",
       "      <td>2005</td>\n",
       "      <td>2006-05-08</td>\n",
       "      <td>Bridgeport</td>\n",
       "      <td>120 HUNTINGTON TPKE</td>\n",
       "      <td>30839.0</td>\n",
       "      <td>112000.0</td>\n",
       "      <td>0.275348</td>\n",
       "      <td>NaN</td>\n",
       "      <td>NaN</td>\n",
       "      <td>NaN</td>\n",
       "      <td>NaN</td>\n",
       "      <td>NaN</td>\n",
       "      <td>POINT (-73.17671 41.21224)</td>\n",
       "      <td>120, Huntington Tpke, Bridgeport, Connecticut,...</td>\n",
       "      <td>-73.176710</td>\n",
       "      <td>41.212240</td>\n",
       "      <td>5</td>\n",
       "      <td>2006</td>\n",
       "    </tr>\n",
       "    <tr>\n",
       "      <th>347758</th>\n",
       "      <td>359976</td>\n",
       "      <td>150102</td>\n",
       "      <td>2015</td>\n",
       "      <td>2016-05-18</td>\n",
       "      <td>Old Lyme</td>\n",
       "      <td>46 OLD COLONY RD</td>\n",
       "      <td>174600.0</td>\n",
       "      <td>290000.0</td>\n",
       "      <td>0.602069</td>\n",
       "      <td>Single Family</td>\n",
       "      <td>Single Family</td>\n",
       "      <td>NaN</td>\n",
       "      <td>NaN</td>\n",
       "      <td>NaN</td>\n",
       "      <td>POINT (-72.27645 41.28723)</td>\n",
       "      <td>46, Old Colony Rd, Old Lyme, Connecticut, Unit...</td>\n",
       "      <td>-72.276450</td>\n",
       "      <td>41.287230</td>\n",
       "      <td>5</td>\n",
       "      <td>2016</td>\n",
       "    </tr>\n",
       "    <tr>\n",
       "      <th>434731</th>\n",
       "      <td>446949</td>\n",
       "      <td>19145</td>\n",
       "      <td>2019</td>\n",
       "      <td>2020-06-16</td>\n",
       "      <td>Orange</td>\n",
       "      <td>240 INDIAN RIVER RD</td>\n",
       "      <td>274200.0</td>\n",
       "      <td>1771000.0</td>\n",
       "      <td>0.154800</td>\n",
       "      <td>NaN</td>\n",
       "      <td>NaN</td>\n",
       "      <td>6.0</td>\n",
       "      <td>unit D1</td>\n",
       "      <td>NaN</td>\n",
       "      <td>NaN</td>\n",
       "      <td>240, Indian River Rd, Orange, Connecticut, Uni...</td>\n",
       "      <td>41.263672</td>\n",
       "      <td>-73.001055</td>\n",
       "      <td>6</td>\n",
       "      <td>2020</td>\n",
       "    </tr>\n",
       "    <tr>\n",
       "      <th>267097</th>\n",
       "      <td>279315</td>\n",
       "      <td>120054</td>\n",
       "      <td>2012</td>\n",
       "      <td>2013-01-30</td>\n",
       "      <td>Mansfield</td>\n",
       "      <td>LOT 31 SAWMILL BROOK LA</td>\n",
       "      <td>41370.0</td>\n",
       "      <td>25000.0</td>\n",
       "      <td>1.654800</td>\n",
       "      <td>NaN</td>\n",
       "      <td>NaN</td>\n",
       "      <td>15.0</td>\n",
       "      <td>LAND LOCKED PARCEL SALE BY ESTATE TO TOWN OF M...</td>\n",
       "      <td>NaN</td>\n",
       "      <td>NaN</td>\n",
       "      <td>NaN</td>\n",
       "      <td>34.220389</td>\n",
       "      <td>70.380031</td>\n",
       "      <td>1</td>\n",
       "      <td>2013</td>\n",
       "    </tr>\n",
       "    <tr>\n",
       "      <th>214481</th>\n",
       "      <td>226699</td>\n",
       "      <td>90077</td>\n",
       "      <td>2009</td>\n",
       "      <td>2010-03-02</td>\n",
       "      <td>Clinton</td>\n",
       "      <td>27 WEST MAIN STREET</td>\n",
       "      <td>249600.0</td>\n",
       "      <td>230000.0</td>\n",
       "      <td>1.085217</td>\n",
       "      <td>NaN</td>\n",
       "      <td>NaN</td>\n",
       "      <td>14.0</td>\n",
       "      <td>NaN</td>\n",
       "      <td>NaN</td>\n",
       "      <td>NaN</td>\n",
       "      <td>27, West Main Street, Clinton, Connecticut, Un...</td>\n",
       "      <td>41.279328</td>\n",
       "      <td>-72.530136</td>\n",
       "      <td>3</td>\n",
       "      <td>2010</td>\n",
       "    </tr>\n",
       "    <tr>\n",
       "      <th>263227</th>\n",
       "      <td>275445</td>\n",
       "      <td>120058</td>\n",
       "      <td>2012</td>\n",
       "      <td>2012-10-23</td>\n",
       "      <td>New Haven</td>\n",
       "      <td>408 LEGION AVENUE</td>\n",
       "      <td>54460.0</td>\n",
       "      <td>65000.0</td>\n",
       "      <td>0.837846</td>\n",
       "      <td>Two Family</td>\n",
       "      <td>Two Family</td>\n",
       "      <td>14.0</td>\n",
       "      <td>NaN</td>\n",
       "      <td>NaN</td>\n",
       "      <td>NaN</td>\n",
       "      <td>408, Legion Avenue, New Haven, Connecticut, Un...</td>\n",
       "      <td>41.305800</td>\n",
       "      <td>-72.945333</td>\n",
       "      <td>10</td>\n",
       "      <td>2012</td>\n",
       "    </tr>\n",
       "    <tr>\n",
       "      <th>64277</th>\n",
       "      <td>68306</td>\n",
       "      <td>20501</td>\n",
       "      <td>2002</td>\n",
       "      <td>2003-01-20</td>\n",
       "      <td>Hartford</td>\n",
       "      <td>146-148 PARK TER</td>\n",
       "      <td>97440.0</td>\n",
       "      <td>55000.0</td>\n",
       "      <td>1.771636</td>\n",
       "      <td>NaN</td>\n",
       "      <td>NaN</td>\n",
       "      <td>NaN</td>\n",
       "      <td>NaN</td>\n",
       "      <td>NaN</td>\n",
       "      <td>NaN</td>\n",
       "      <td>146, Park Ter, Hartford, Connecticut, United S...</td>\n",
       "      <td>41.758388</td>\n",
       "      <td>-72.693629</td>\n",
       "      <td>1</td>\n",
       "      <td>2003</td>\n",
       "    </tr>\n",
       "  </tbody>\n",
       "</table>\n",
       "</div>"
      ],
      "text/plain": [
       "        Unnamed: 0  Serial Number  List Year Date Recorded         Town  \\\n",
       "405123      417341         180149       2018    2018-12-18      Enfield   \n",
       "13944        14713         200302       2020    2021-02-10  Glastonbury   \n",
       "168059      174252          60794       2006    2007-06-25    Fairfield   \n",
       "135367      141560          52062       2005    2006-05-08   Bridgeport   \n",
       "347758      359976         150102       2015    2016-05-18     Old Lyme   \n",
       "434731      446949          19145       2019    2020-06-16       Orange   \n",
       "267097      279315         120054       2012    2013-01-30    Mansfield   \n",
       "214481      226699          90077       2009    2010-03-02      Clinton   \n",
       "263227      275445         120058       2012    2012-10-23    New Haven   \n",
       "64277        68306          20501       2002    2003-01-20     Hartford   \n",
       "\n",
       "                        Address  Assessed Value  Sale Amount  Sales Ratio  \\\n",
       "405123              22 PARKY DR        120530.0     169900.0     0.709400   \n",
       "13944            291 WICKHAM RD        239700.0     301500.0     0.795000   \n",
       "168059          646 MILL HL TER        412720.0     163333.0     2.526862   \n",
       "135367      120 HUNTINGTON TPKE         30839.0     112000.0     0.275348   \n",
       "347758         46 OLD COLONY RD        174600.0     290000.0     0.602069   \n",
       "434731      240 INDIAN RIVER RD        274200.0    1771000.0     0.154800   \n",
       "267097  LOT 31 SAWMILL BROOK LA         41370.0      25000.0     1.654800   \n",
       "214481      27 WEST MAIN STREET        249600.0     230000.0     1.085217   \n",
       "263227        408 LEGION AVENUE         54460.0      65000.0     0.837846   \n",
       "64277          146-148 PARK TER         97440.0      55000.0     1.771636   \n",
       "\n",
       "        Property Type Residential Type  Non Use Code  \\\n",
       "405123  Single Family    Single Family          25.0   \n",
       "13944     Residential       Two Family          25.0   \n",
       "168059  Single Family    Single Family           8.0   \n",
       "135367            NaN              NaN           NaN   \n",
       "347758  Single Family    Single Family           NaN   \n",
       "434731            NaN              NaN           6.0   \n",
       "267097            NaN              NaN          15.0   \n",
       "214481            NaN              NaN          14.0   \n",
       "263227     Two Family       Two Family          14.0   \n",
       "64277             NaN              NaN           NaN   \n",
       "\n",
       "                                         Assessor Remarks OPM remarks  \\\n",
       "405123                                         SOLD AS IS         NaN   \n",
       "13944                                          AS-IS SALE         NaN   \n",
       "168059                                                NaN         NaN   \n",
       "135367                                                NaN         NaN   \n",
       "347758                                                NaN         NaN   \n",
       "434731                                            unit D1         NaN   \n",
       "267097  LAND LOCKED PARCEL SALE BY ESTATE TO TOWN OF M...         NaN   \n",
       "214481                                                NaN         NaN   \n",
       "263227                                                NaN         NaN   \n",
       "64277                                                 NaN         NaN   \n",
       "\n",
       "                          Location  \\\n",
       "405123  POINT (-72.57531 41.94218)   \n",
       "13944                          NaN   \n",
       "168059                         NaN   \n",
       "135367  POINT (-73.17671 41.21224)   \n",
       "347758  POINT (-72.27645 41.28723)   \n",
       "434731                         NaN   \n",
       "267097                         NaN   \n",
       "214481                         NaN   \n",
       "263227                         NaN   \n",
       "64277                          NaN   \n",
       "\n",
       "                                             Full Address   latitude  \\\n",
       "405123  22, Parky Dr, Enfield, Connecticut, United States -72.575310   \n",
       "13944   291, Wickham Rd, Glastonbury, Connecticut, Uni...  41.708004   \n",
       "168059  646, Mill Hl Ter, Fairfield, Connecticut, Unit...  41.146329   \n",
       "135367  120, Huntington Tpke, Bridgeport, Connecticut,... -73.176710   \n",
       "347758  46, Old Colony Rd, Old Lyme, Connecticut, Unit... -72.276450   \n",
       "434731  240, Indian River Rd, Orange, Connecticut, Uni...  41.263672   \n",
       "267097                                                NaN  34.220389   \n",
       "214481  27, West Main Street, Clinton, Connecticut, Un...  41.279328   \n",
       "263227  408, Legion Avenue, New Haven, Connecticut, Un...  41.305800   \n",
       "64277   146, Park Ter, Hartford, Connecticut, United S...  41.758388   \n",
       "\n",
       "        longitude  month_recorded  year_recorded  \n",
       "405123  41.942180              12           2018  \n",
       "13944  -72.559483               2           2021  \n",
       "168059 -73.282521               6           2007  \n",
       "135367  41.212240               5           2006  \n",
       "347758  41.287230               5           2016  \n",
       "434731 -73.001055               6           2020  \n",
       "267097  70.380031               1           2013  \n",
       "214481 -72.530136               3           2010  \n",
       "263227 -72.945333              10           2012  \n",
       "64277  -72.693629               1           2003  "
      ]
     },
     "execution_count": 2,
     "metadata": {},
     "output_type": "execute_result"
    }
   ],
   "source": [
    "file_path ='../Datasets/geocoded_and_location_filtered.csv'\n",
    "\n",
    "real_estate=pd.read_csv(file_path)\n",
    "real_estate.sample(10)"
   ]
  },
  {
   "cell_type": "markdown",
   "id": "99be2469-f0fa-40d0-bcbc-bd988bf9357b",
   "metadata": {},
   "source": [
    "Check the dataset:"
   ]
  },
  {
   "cell_type": "code",
   "execution_count": 3,
   "id": "63a98df5",
   "metadata": {
    "colab": {
     "base_uri": "https://localhost:8080/"
    },
    "id": "63a98df5",
    "outputId": "4f73cab1-1627-4d84-ba59-fcfbf0c5b3b2"
   },
   "outputs": [
    {
     "name": "stdout",
     "output_type": "stream",
     "text": [
      "<class 'pandas.core.frame.DataFrame'>\n",
      "RangeIndex: 449675 entries, 0 to 449674\n",
      "Data columns (total 20 columns):\n",
      " #   Column            Non-Null Count   Dtype  \n",
      "---  ------            --------------   -----  \n",
      " 0   Unnamed: 0        449675 non-null  int64  \n",
      " 1   Serial Number     449675 non-null  int64  \n",
      " 2   List Year         449675 non-null  int64  \n",
      " 3   Date Recorded     449675 non-null  object \n",
      " 4   Town              449675 non-null  object \n",
      " 5   Address           449627 non-null  object \n",
      " 6   Assessed Value    449675 non-null  float64\n",
      " 7   Sale Amount       449675 non-null  float64\n",
      " 8   Sales Ratio       449675 non-null  float64\n",
      " 9   Property Type     293652 non-null  object \n",
      " 10  Residential Type  289555 non-null  object \n",
      " 11  Non Use Code      236743 non-null  float64\n",
      " 12  Assessor Remarks  146190 non-null  object \n",
      " 13  OPM remarks       9753 non-null    object \n",
      " 14  Location          197691 non-null  object \n",
      " 15  Full Address      432384 non-null  object \n",
      " 16  latitude          449675 non-null  float64\n",
      " 17  longitude         449675 non-null  float64\n",
      " 18  month_recorded    449675 non-null  int64  \n",
      " 19  year_recorded     449675 non-null  int64  \n",
      "dtypes: float64(6), int64(5), object(9)\n",
      "memory usage: 68.6+ MB\n",
      "None\n"
     ]
    }
   ],
   "source": [
    "print(real_estate.info())"
   ]
  },
  {
   "cell_type": "markdown",
   "id": "0a93966d-f8a9-4c35-9d06-3ab7b64f34fa",
   "metadata": {},
   "source": [
    "Columns to be dropped:\n",
    "'Unnamed: 0': unnecessary column from Geocoding\n",
    "'Serial Number': not applicable in modelling\n",
    "'Date Recorded': feature-engineered as month and year\n",
    "'Sales Ratio': since it is a ratio between assessed and sales values, it would cause data-leakage\n",
    "'Address''Full Address': used in geocoding, not applicable in modelling\n",
    "'Property Type': Redundant with \"Residential Type\"\n",
    "'Location': feature-engineered as longitude and latitude\n",
    "\n",
    "Also, 'na' is inserted to fill null values:"
   ]
  },
  {
   "cell_type": "code",
   "execution_count": 4,
   "id": "89591728",
   "metadata": {
    "id": "89591728"
   },
   "outputs": [],
   "source": [
    "real_estate_nonull = real_estate.drop(columns=['Unnamed: 0','Serial Number', 'Date Recorded', 'Sales Ratio', 'Address', 'Full Address', 'Property Type', 'Location'], axis=1)\n",
    "real_estate_nonull = real_estate_nonull.fillna(\"na\")"
   ]
  },
  {
   "cell_type": "markdown",
   "id": "662cea40-1973-43d7-a18c-bfc479c53f28",
   "metadata": {},
   "source": [
    "Check that the columns are dropped and 'na' is inserted"
   ]
  },
  {
   "cell_type": "code",
   "execution_count": 5,
   "id": "3b47ac14",
   "metadata": {
    "colab": {
     "base_uri": "https://localhost:8080/",
     "height": 151
    },
    "id": "3b47ac14",
    "outputId": "a1dae91f-fe21-4b07-9586-dc4923aa29dd"
   },
   "outputs": [
    {
     "data": {
      "text/html": [
       "<div>\n",
       "<style scoped>\n",
       "    .dataframe tbody tr th:only-of-type {\n",
       "        vertical-align: middle;\n",
       "    }\n",
       "\n",
       "    .dataframe tbody tr th {\n",
       "        vertical-align: top;\n",
       "    }\n",
       "\n",
       "    .dataframe thead th {\n",
       "        text-align: right;\n",
       "    }\n",
       "</style>\n",
       "<table border=\"1\" class=\"dataframe\">\n",
       "  <thead>\n",
       "    <tr style=\"text-align: right;\">\n",
       "      <th></th>\n",
       "      <th>List Year</th>\n",
       "      <th>Town</th>\n",
       "      <th>Assessed Value</th>\n",
       "      <th>Sale Amount</th>\n",
       "      <th>Residential Type</th>\n",
       "      <th>Non Use Code</th>\n",
       "      <th>Assessor Remarks</th>\n",
       "      <th>OPM remarks</th>\n",
       "      <th>latitude</th>\n",
       "      <th>longitude</th>\n",
       "      <th>month_recorded</th>\n",
       "      <th>year_recorded</th>\n",
       "    </tr>\n",
       "  </thead>\n",
       "  <tbody>\n",
       "    <tr>\n",
       "      <th>206702</th>\n",
       "      <td>2009</td>\n",
       "      <td>Groton</td>\n",
       "      <td>366660.0</td>\n",
       "      <td>197500.0</td>\n",
       "      <td>Single Family</td>\n",
       "      <td>8.0</td>\n",
       "      <td>na</td>\n",
       "      <td>na</td>\n",
       "      <td>-72.00494</td>\n",
       "      <td>41.31924</td>\n",
       "      <td>9</td>\n",
       "      <td>2010</td>\n",
       "    </tr>\n",
       "  </tbody>\n",
       "</table>\n",
       "</div>"
      ],
      "text/plain": [
       "        List Year    Town  Assessed Value  Sale Amount Residential Type  \\\n",
       "206702       2009  Groton        366660.0     197500.0    Single Family   \n",
       "\n",
       "       Non Use Code Assessor Remarks OPM remarks  latitude  longitude  \\\n",
       "206702          8.0               na          na -72.00494   41.31924   \n",
       "\n",
       "        month_recorded  year_recorded  \n",
       "206702               9           2010  "
      ]
     },
     "execution_count": 5,
     "metadata": {},
     "output_type": "execute_result"
    }
   ],
   "source": [
    "real_estate_nonull.sample()"
   ]
  },
  {
   "cell_type": "code",
   "execution_count": 6,
   "id": "904f2dd4",
   "metadata": {
    "colab": {
     "base_uri": "https://localhost:8080/"
    },
    "id": "904f2dd4",
    "outputId": "870cb30f-d84f-4363-872c-c032131026ca"
   },
   "outputs": [
    {
     "name": "stdout",
     "output_type": "stream",
     "text": [
      "<class 'pandas.core.frame.DataFrame'>\n",
      "RangeIndex: 449675 entries, 0 to 449674\n",
      "Data columns (total 12 columns):\n",
      " #   Column            Non-Null Count   Dtype  \n",
      "---  ------            --------------   -----  \n",
      " 0   List Year         449675 non-null  int64  \n",
      " 1   Town              449675 non-null  object \n",
      " 2   Assessed Value    449675 non-null  float64\n",
      " 3   Sale Amount       449675 non-null  float64\n",
      " 4   Residential Type  449675 non-null  object \n",
      " 5   Non Use Code      449675 non-null  object \n",
      " 6   Assessor Remarks  449675 non-null  object \n",
      " 7   OPM remarks       449675 non-null  object \n",
      " 8   latitude          449675 non-null  float64\n",
      " 9   longitude         449675 non-null  float64\n",
      " 10  month_recorded    449675 non-null  int64  \n",
      " 11  year_recorded     449675 non-null  int64  \n",
      "dtypes: float64(4), int64(3), object(5)\n",
      "memory usage: 41.2+ MB\n",
      ".info of All Columns\n",
      " None\n",
      "Null Values in Total\n",
      " List Year           0\n",
      "Town                0\n",
      "Assessed Value      0\n",
      "Sale Amount         0\n",
      "Residential Type    0\n",
      "Non Use Code        0\n",
      "Assessor Remarks    0\n",
      "OPM remarks         0\n",
      "latitude            0\n",
      "longitude           0\n",
      "month_recorded      0\n",
      "year_recorded       0\n",
      "dtype: int64\n"
     ]
    }
   ],
   "source": [
    "#Missing values check\n",
    "print(\".info of All Columns\\n\", real_estate_nonull.info())\n",
    "print(\"Null Values in Total\\n\", real_estate_nonull.isna().sum())"
   ]
  },
  {
   "cell_type": "markdown",
   "id": "c1db120f-fa11-4f8c-a363-e99f1c875895",
   "metadata": {},
   "source": [
    "Start train/remainder/test split:"
   ]
  },
  {
   "cell_type": "code",
   "execution_count": 7,
   "id": "3khGPHYs3aIc",
   "metadata": {
    "id": "3khGPHYs3aIc"
   },
   "outputs": [],
   "source": [
    "X = real_estate_nonull.drop('Sale Amount', axis=1)\n",
    "y = real_estate_nonull[\"Sale Amount\"]"
   ]
  },
  {
   "cell_type": "markdown",
   "id": "02a087be-bec2-4b4b-b333-2c595ae69793",
   "metadata": {},
   "source": [
    "One-hot-encode 'List Year', 'Town','Residential Type', 'Non Use Code' because encoding X_train, X_val, X_test separately may result in different number of columns."
   ]
  },
  {
   "cell_type": "code",
   "execution_count": 8,
   "id": "6VGnorhvDdTv",
   "metadata": {
    "id": "6VGnorhvDdTv"
   },
   "outputs": [],
   "source": [
    "X_coded= pd.get_dummies(X, columns=['List Year', 'Town','Residential Type', 'Non Use Code'])"
   ]
  },
  {
   "cell_type": "code",
   "execution_count": 9,
   "id": "mfAeZoWJ2y0t",
   "metadata": {
    "id": "mfAeZoWJ2y0t"
   },
   "outputs": [],
   "source": [
    "X_rem, X_test, y_rem, y_test = train_test_split(X_coded, y, test_size=0.3, random_state=22)"
   ]
  },
  {
   "cell_type": "code",
   "execution_count": 10,
   "id": "740f7292",
   "metadata": {
    "colab": {
     "base_uri": "https://localhost:8080/"
    },
    "id": "740f7292",
    "outputId": "425c53d0-07d0-4549-8087-3cc938e150c2"
   },
   "outputs": [
    {
     "name": "stdout",
     "output_type": "stream",
     "text": [
      "(157386, 242) (157386, 242) (157386,) (157386,)\n"
     ]
    }
   ],
   "source": [
    "X_train, X_val, y_train, y_val = train_test_split(X_rem, y_rem, test_size=0.5, random_state=22)\n",
    "print(X_train.shape, X_val.shape, y_train.shape, y_val.shape)"
   ]
  },
  {
   "cell_type": "code",
   "execution_count": 11,
   "id": "f8560c80-ad0a-4061-b52c-2400a538e516",
   "metadata": {
    "colab": {
     "base_uri": "https://localhost:8080/"
    },
    "id": "59965ce1",
    "outputId": "7ca6be62-6642-48ed-bc0c-5959467274e6"
   },
   "outputs": [
    {
     "name": "stdout",
     "output_type": "stream",
     "text": [
      "(157386,) (157386,) (157386,) (157386,) (157386, 237) (157386, 237)\n"
     ]
    }
   ],
   "source": [
    "X_train_Assessor_Remarks = X_train['Assessor Remarks']\n",
    "X_train_OPM_remarks = X_train[\"OPM remarks\"]\n",
    "X_train_numerical = X_train[[ \"Assessed Value\", \"latitude\", \"longitude\"]]\n",
    "X_train_coded = X_train.drop([\"Assessor Remarks\", \"OPM remarks\", \"Assessed Value\", \"latitude\", \"longitude\"], axis =1)\n",
    "\n",
    "X_val_Assessor_Remarks = X_val['Assessor Remarks']\n",
    "X_val_OPM_remarks = X_val['OPM remarks']\n",
    "X_val_numerical = X_val[[ \"Assessed Value\", \"latitude\", \"longitude\"]]\n",
    "X_val_coded = X_train.drop([\"Assessor Remarks\", \"OPM remarks\", \"Assessed Value\", \"latitude\", \"longitude\"], axis =1)\n",
    "\n",
    "#Check the shape of each dataframe:\n",
    "print(X_train_Assessor_Remarks.shape, X_train_OPM_remarks.shape, X_val_Assessor_Remarks.shape, X_val_OPM_remarks.shape, X_train_coded.shape, X_val_coded.shape)\n"
   ]
  },
  {
   "cell_type": "markdown",
   "id": "f32bd10d-a4c0-440a-8a55-bc33bf6a0e20",
   "metadata": {},
   "source": [
    "Create tokenizer:"
   ]
  },
  {
   "cell_type": "code",
   "execution_count": 12,
   "id": "87c9bb7c",
   "metadata": {
    "id": "87c9bb7c"
   },
   "outputs": [
    {
     "name": "stderr",
     "output_type": "stream",
     "text": [
      "[nltk_data] Downloading package stopwords to\n",
      "[nltk_data]     /Users/haesunjung/nltk_data...\n",
      "[nltk_data]   Package stopwords is already up-to-date!\n",
      "[nltk_data] Downloading package wordnet to\n",
      "[nltk_data]     /Users/haesunjung/nltk_data...\n",
      "[nltk_data]   Package wordnet is already up-to-date!\n",
      "[nltk_data] Downloading package omw-1.4 to\n",
      "[nltk_data]     /Users/haesunjung/nltk_data...\n",
      "[nltk_data]   Package omw-1.4 is already up-to-date!\n"
     ]
    }
   ],
   "source": [
    "nltk.download('stopwords')\n",
    "nltk.download('wordnet')\n",
    "nltk.download('omw-1.4')\n",
    "\n",
    "def custom_tokenizer(s):\n",
    "    # Remove punctuation\n",
    "    for char in s:\n",
    "        if char in string.punctuation:\n",
    "            s = s.replace(char, '')\n",
    "\n",
    "    # Make the string lowercase\n",
    "    s = s.lower()\n",
    "    \n",
    "    # Split the string at each space\n",
    "    tokens = s.split()\n",
    "\n",
    "    # Create a set of NLTK stop words for faster lookup\n",
    "    stop_words = set(stopwords.words('english'))\n",
    "\n",
    "    # Lemmatize tokens and filter out stop words\n",
    "    wnl = WordNetLemmatizer()\n",
    "    lemmatized_tokens = [wnl.lemmatize(token) for token in tokens if token not in stop_words]\n",
    "\n",
    "    return lemmatized_tokens"
   ]
  },
  {
   "cell_type": "markdown",
   "id": "1fafa0c9-fc9a-4c0f-912b-92519097f1b6",
   "metadata": {},
   "source": [
    "Instantiate the count_vectorizer and tf-idf_vectorizer:"
   ]
  },
  {
   "cell_type": "code",
   "execution_count": 13,
   "id": "d943cf93",
   "metadata": {
    "id": "d943cf93"
   },
   "outputs": [],
   "source": [
    "stemmer = nltk.stem.PorterStemmer()\n",
    "count_vectorizer = CountVectorizer(\n",
    "    tokenizer = custom_tokenizer,\n",
    "    stop_words='english',\n",
    "    min_df=10,\n",
    "    max_features=1000\n",
    ")"
   ]
  },
  {
   "cell_type": "code",
   "execution_count": 21,
   "id": "27ea2a34-6b12-4f3e-b7ac-8dee7cc8dfa6",
   "metadata": {},
   "outputs": [],
   "source": [
    "tfidf_vectorizer = TfidfVectorizer(\n",
    "    tokenizer=custom_tokenizer,\n",
    "    stop_words='english',\n",
    "    min_df=10,\n",
    "    max_features=1000\n",
    ")"
   ]
  },
  {
   "cell_type": "markdown",
   "id": "48c9e898-011b-4e23-9dc6-d347403c6e7b",
   "metadata": {},
   "source": [
    "Vectorize & Fit the values:"
   ]
  },
  {
   "cell_type": "code",
   "execution_count": 25,
   "id": "264d313a",
   "metadata": {
    "colab": {
     "base_uri": "https://localhost:8080/"
    },
    "id": "264d313a",
    "outputId": "a3274d06-da99-40e0-9136-2e7bc8dcf817"
   },
   "outputs": [
    {
     "name": "stderr",
     "output_type": "stream",
     "text": [
      "/Users/haesunjung/anaconda3/lib/python3.11/site-packages/sklearn/feature_extraction/text.py:528: UserWarning: The parameter 'token_pattern' will not be used since 'tokenizer' is not None'\n",
      "  warnings.warn(\n"
     ]
    }
   ],
   "source": [
    "X_train_Assessor_Remarks_vectorized= count_vectorizer.fit_transform(X_train_Assessor_Remarks.values)\n",
    "X_train_Assessor_Remarks_df = pd.DataFrame((X_train_Assessor_Remarks_vectorized).toarray(), columns=count_vectorizer.get_feature_names_out())\n",
    "\n",
    "X_val_Assessor_Remarks_vectorized= count_vectorizer.transform(X_val_Assessor_Remarks.values)\n",
    "X_val_Assessor_Remarks_df= pd.DataFrame((X_val_Assessor_Remarks_vectorized).toarray(), columns=count_vectorizer.get_feature_names_out())\n",
    "\n",
    "X_train_OPM_remarks_vectorized= count_vectorizer.fit_transform(X_train_OPM_remarks.values)\n",
    "X_train_OPM_remarks_df = pd.DataFrame((X_train_OPM_remarks_vectorized).toarray(), columns=count_vectorizer.get_feature_names_out())\n",
    "\n",
    "X_val_OPM_remarks_vectorized= count_vectorizer.transform(X_val_OPM_remarks.values)\n",
    "X_val_OPM_remarks_df = pd.DataFrame((X_val_OPM_remarks_vectorized).toarray(), columns=count_vectorizer.get_feature_names_out())"
   ]
  },
  {
   "cell_type": "markdown",
   "id": "aef86a04",
   "metadata": {
    "id": "aef86a04"
   },
   "source": [
    "Scale the numerical values:"
   ]
  },
  {
   "cell_type": "code",
   "execution_count": 26,
   "id": "27724f7f",
   "metadata": {
    "id": "27724f7f"
   },
   "outputs": [],
   "source": [
    "my_minmax_scaler = MinMaxScaler()\n",
    "X_train_numerical_scaled = my_minmax_scaler.fit_transform(X_train_numerical)\n",
    "X_val_numerical_scaled  = my_minmax_scaler.transform(X_val_numerical)\n",
    "\n",
    "X_train_numerical_scaled_df = pd.DataFrame(X_train_numerical_scaled, columns=X_train_numerical.columns)\n",
    "X_val_numerical_scaled_df = pd.DataFrame(X_val_numerical_scaled, columns=X_val_numerical.columns)"
   ]
  },
  {
   "cell_type": "markdown",
   "id": "0d8b675d-f735-4078-987c-3b0f0eaac80b",
   "metadata": {},
   "source": [
    "Reset indices:"
   ]
  },
  {
   "cell_type": "code",
   "execution_count": 27,
   "id": "3d37fcaf-96e4-4a5d-8d91-ecb87e225251",
   "metadata": {},
   "outputs": [],
   "source": [
    "X_train_Assessor_Remarks_df = X_train_Assessor_Remarks_df.reset_index(drop=True)\n",
    "X_train_OPM_remarks_df = X_train_OPM_remarks_df.reset_index(drop=True)\n",
    "X_train_numerical_scaled_df = X_train_numerical_scaled_df.reset_index(drop=True)\n",
    "X_train_coded = X_train_coded.reset_index(drop=True)\n",
    "\n",
    "X_val_Assessor_Remarks_df = X_val_Assessor_Remarks_df.reset_index(drop=True)\n",
    "X_val_OPM_remarks_df = X_val_OPM_remarks_df.reset_index(drop=True)\n",
    "X_val_numerical_scaled_df = X_val_numerical_scaled_df.reset_index(drop=True)\n",
    "X_val_coded = X_val_coded.reset_index(drop=True)"
   ]
  },
  {
   "cell_type": "markdown",
   "id": "51341374-bbcd-4b89-b177-cfa89595754c",
   "metadata": {},
   "source": [
    "Merge components:"
   ]
  },
  {
   "cell_type": "code",
   "execution_count": 28,
   "id": "d7f4a218",
   "metadata": {
    "colab": {
     "base_uri": "https://localhost:8080/"
    },
    "id": "d7f4a218",
    "outputId": "7717ded9-7d8b-43fd-dfc1-32c54f8ede9d"
   },
   "outputs": [],
   "source": [
    "X_train_remarks_merged = pd.concat([X_train_Assessor_Remarks_df, X_train_OPM_remarks_df], axis=1)\n",
    "X_train_all_merged = pd.concat([X_train_remarks_merged.reset_index(drop=True), X_train_numerical_scaled_df, X_train_coded], axis=1)\n",
    "\n",
    "X_val_remarks_merged = pd.concat([X_val_Assessor_Remarks_df, X_val_OPM_remarks_df], axis=1)\n",
    "X_val_all_merged = pd.concat([X_val_remarks_merged, X_val_numerical_scaled_df, X_val_coded], axis=1)"
   ]
  },
  {
   "cell_type": "markdown",
   "id": "727b5727-65cc-4f8c-9a4c-d4ca14cc584e",
   "metadata": {},
   "source": [
    "Print the shape of the final merged data:"
   ]
  },
  {
   "cell_type": "code",
   "execution_count": 29,
   "id": "38a35cd8-98d9-4e05-8ded-7ae359077867",
   "metadata": {},
   "outputs": [
    {
     "name": "stdout",
     "output_type": "stream",
     "text": [
      "Shape after merging all components (train set): (157386, 1342)\n",
      "Shape after merging all components (val set): (157386, 1342)\n"
     ]
    }
   ],
   "source": [
    "print(\"Shape after merging all components (train set):\", X_train_all_merged.shape)\n",
    "print(\"Shape after merging all components (val set):\", X_val_all_merged.shape)"
   ]
  },
  {
   "cell_type": "markdown",
   "id": "4b4d383b-aa97-4fcf-a61c-e6ee9062791a",
   "metadata": {},
   "source": [
    "Check for null values:"
   ]
  },
  {
   "cell_type": "code",
   "execution_count": 30,
   "id": "tZSxFhpF8ln2",
   "metadata": {
    "colab": {
     "base_uri": "https://localhost:8080/"
    },
    "id": "tZSxFhpF8ln2",
    "outputId": "8d2fcd44-3a23-42e0-b278-69cb82cc13e2"
   },
   "outputs": [
    {
     "name": "stdout",
     "output_type": "stream",
     "text": [
      "0\n",
      "0\n"
     ]
    }
   ],
   "source": [
    "print(X_train_all_merged.isna().sum().sum())\n",
    "print(X_val_all_merged.isna().sum().sum())"
   ]
  },
  {
   "cell_type": "markdown",
   "id": "598bb2f7-2af3-49b1-9073-9e05d0d3cd15",
   "metadata": {},
   "source": [
    "Check the data types:"
   ]
  },
  {
   "cell_type": "code",
   "execution_count": null,
   "id": "AvlML-rMFcSn",
   "metadata": {
    "colab": {
     "base_uri": "https://localhost:8080/",
     "height": 402
    },
    "id": "AvlML-rMFcSn",
    "outputId": "155d5346-8a56-46b6-a500-9cf411b4dd47"
   },
   "outputs": [],
   "source": [
    "X_train_all_merged.select_dtypes(include=['object'])\n",
    "X_val_all_merged.select_dtypes(include=['object'])\n",
    "\n",
    "#Because there are too many columns, .info() is not used"
   ]
  },
  {
   "cell_type": "markdown",
   "id": "b08a4fc7-dcec-4b38-980c-42513d666b71",
   "metadata": {},
   "source": [
    "Baseline Lasso Model:"
   ]
  },
  {
   "cell_type": "code",
   "execution_count": 30,
   "id": "UGQhhqOabwjl",
   "metadata": {
    "id": "UGQhhqOabwjl"
   },
   "outputs": [
    {
     "name": "stderr",
     "output_type": "stream",
     "text": [
      "/Users/haesunjung/anaconda3/lib/python3.11/site-packages/sklearn/linear_model/_coordinate_descent.py:631: ConvergenceWarning: Objective did not converge. You might want to increase the number of iterations, check the scale of the features or consider increasing regularisation. Duality gap: 3.140e+17, tolerance: 7.794e+13\n",
      "  model = cd_fast.enet_coordinate_descent(\n"
     ]
    },
    {
     "name": "stdout",
     "output_type": "stream",
     "text": [
      "R2 train score:0.18909042188612868\n",
      "R2 val score:-0.0012220569317249463\n"
     ]
    }
   ],
   "source": [
    "lasso_model = Lasso(alpha=1.0) \n",
    "\n",
    "# Fit the model to your training data\n",
    "lasso_model.fit(X_train_all_merged, y_train)\n",
    "\n",
    "score = lasso_model.score(X_train_all_merged, y_train)\n",
    "\n",
    "print(f\"R2 train score:{score}\")\n",
    "\n",
    "score = lasso_model.score(X_val_all_merged, y_val)\n",
    "\n",
    "print(f\"R2 val score:{score}\")"
   ]
  },
  {
   "cell_type": "code",
   "execution_count": null,
   "id": "71a20e15-093f-491a-b5f7-c39dc3a70cd4",
   "metadata": {},
   "outputs": [],
   "source": []
  },
  {
   "cell_type": "markdown",
   "id": "d854333c-72e7-4e30-9a2c-e1287bde0880",
   "metadata": {},
   "source": [
    "Estimator + random search for Lasso:"
   ]
  },
  {
   "cell_type": "code",
   "execution_count": 35,
   "id": "bWK-wxeYcR9F",
   "metadata": {
    "id": "bWK-wxeYcR9F"
   },
   "outputs": [
    {
     "name": "stdout",
     "output_type": "stream",
     "text": [
      "Fitting 5 folds for each of 10 candidates, totalling 50 fits\n",
      "R-squared (R2) Score on Training Data: 0.11305220745915812\n",
      "R-squared (R2) Score on Validation Data: -0.01988716153228398\n",
      "Best Parameters: {'scaling': RobustScaler(), 'reduce_dim__n_components': 100, 'reduce_dim': PCA(n_components=100), 'model__alpha': 100, 'model': Lasso(alpha=100)}\n",
      "Best Estimator: Pipeline(steps=[('scaling', RobustScaler()),\n",
      "                ('reduce_dim', PCA(n_components=100)),\n",
      "                ('model', Lasso(alpha=100))])\n"
     ]
    }
   ],
   "source": [
    "estimators = [\n",
    "    ('scaling', StandardScaler()),\n",
    "    ('reduce_dim', PCA()),\n",
    "    ('model', LinearRegression())\n",
    "]\n",
    "\n",
    "pipe = Pipeline(estimators)\n",
    "\n",
    "param_dist = [\n",
    "    {\n",
    "        'scaling': [StandardScaler(), RobustScaler(), MinMaxScaler()],\n",
    "        'reduce_dim': [PCA()],\n",
    "        'reduce_dim__n_components': [1, 100, 10],\n",
    "        'model': [Lasso()],\n",
    "        'model__alpha': [0.1, 1, 10, 100],\n",
    "    }\n",
    "]\n",
    "\n",
    "random_search = RandomizedSearchCV(\n",
    "    estimator=pipe,\n",
    "    param_distributions=param_dist,\n",
    "    n_iter=10, \n",
    "    cv=5,\n",
    "    verbose=2,\n",
    "    n_jobs=-1\n",
    ")\n",
    "\n",
    "# Fit the grid search to the training data\n",
    "random_search.fit(X_train_all_merged, y_train)\n",
    "\n",
    "# Get the best estimator\n",
    "best_estimator = random_search.best_estimator_\n",
    "\n",
    "y_pred_train = best_estimator.predict(X_train_all_merged)\n",
    "y_pred_val = best_estimator.predict(X_val_all_merged)\n",
    "\n",
    "# Calculate the R-squared (R2) score\n",
    "r2_train = r2_score(y_train, y_pred_train)\n",
    "r2_val = r2_score(y_val, y_pred_val)\n"
   ]
  },
  {
   "cell_type": "markdown",
   "id": "6dd20f4b-7af5-4150-bfc5-a1673ff4791c",
   "metadata": {},
   "source": [
    "Training and Validation Scores with the Best Estimator:"
   ]
  },
  {
   "cell_type": "code",
   "execution_count": 37,
   "id": "5fe6e6fb-3249-4d75-aeb0-82d710bf976f",
   "metadata": {},
   "outputs": [
    {
     "name": "stdout",
     "output_type": "stream",
     "text": [
      "R-squared (R2) Score on Training Data: 0.11305220745915812\n",
      "R-squared (R2) Score on Validation Data: -0.01988716153228398\n",
      "Best Parameters: {'scaling': RobustScaler(), 'reduce_dim__n_components': 100, 'reduce_dim': PCA(n_components=100), 'model__alpha': 100, 'model': Lasso(alpha=100)}\n",
      "Best Estimator: Pipeline(steps=[('scaling', RobustScaler()),\n",
      "                ('reduce_dim', PCA(n_components=100)),\n",
      "                ('model', Lasso(alpha=100))])\n"
     ]
    }
   ],
   "source": [
    "print(\"R-squared (R2) Score on Training Data:\", r2_train)\n",
    "print(\"R-squared (R2) Score on Validation Data:\", r2_val)\n",
    "\n",
    "# Get the best parameters and best estimator\n",
    "print(\"Best Parameters:\", random_search.best_params_)\n",
    "print(\"Best Estimator:\", best_estimator)"
   ]
  },
  {
   "cell_type": "markdown",
   "id": "a555aacb-ed30-4050-84e4-765d426adbb4",
   "metadata": {},
   "source": [
    "DT Baseline Mode:"
   ]
  },
  {
   "cell_type": "code",
   "execution_count": 36,
   "id": "231bc5c0-bd90-4403-a9a0-d39324241138",
   "metadata": {},
   "outputs": [
    {
     "name": "stdout",
     "output_type": "stream",
     "text": [
      "R-squared Score for Training Data: 0.2459337077243653\n"
     ]
    }
   ],
   "source": [
    "from sklearn.tree import DecisionTreeRegressor\n",
    "\n",
    "# Create a DecisionTreeRegressor instance\n",
    "DT_regressor_model = DecisionTreeRegressor(max_depth=20, min_samples_split = 100, min_samples_leaf = 100, random_state = 22)  # You can specify various hyperparameters like max_depth\n",
    "\n",
    "# Fit the model to the data\n",
    "DT_regressor_model.fit(X_train_all_merged, y_train)\n",
    "\n",
    "# Make predictions on the training data\n",
    "y_pred_train = DT_regressor_model.predict(X_train_all_merged)\n",
    "\n",
    "# Calculate the R-squared score for training data\n",
    "DT_train_score = DT_regressor_model.score(X_train_all_merged, y_train)\n",
    "\n",
    "print(f\"R-squared Score for Training Data: {DT_train_score}\")\n",
    "\n"
   ]
  },
  {
   "cell_type": "code",
   "execution_count": 39,
   "id": "61f87f5e-86b8-49b1-bd3f-50b627969c7d",
   "metadata": {},
   "outputs": [
    {
     "data": {
      "text/plain": [
       "-0.08286104331141386"
      ]
     },
     "execution_count": 39,
     "metadata": {},
     "output_type": "execute_result"
    }
   ],
   "source": [
    "DT_val_score = DT_regressor_model.score(X_val_all_merged, y_val)\n",
    "DT_val_score "
   ]
  },
  {
   "cell_type": "markdown",
   "id": "72935bc6-e15d-4937-93da-1c02dcc27b90",
   "metadata": {},
   "source": [
    "KNN baseline model:"
   ]
  },
  {
   "cell_type": "code",
   "execution_count": 50,
   "id": "9b9448c9-82ff-4323-a07e-10258c66c883",
   "metadata": {},
   "outputs": [
    {
     "data": {
      "text/html": [
       "<style>#sk-container-id-2 {color: black;background-color: white;}#sk-container-id-2 pre{padding: 0;}#sk-container-id-2 div.sk-toggleable {background-color: white;}#sk-container-id-2 label.sk-toggleable__label {cursor: pointer;display: block;width: 100%;margin-bottom: 0;padding: 0.3em;box-sizing: border-box;text-align: center;}#sk-container-id-2 label.sk-toggleable__label-arrow:before {content: \"▸\";float: left;margin-right: 0.25em;color: #696969;}#sk-container-id-2 label.sk-toggleable__label-arrow:hover:before {color: black;}#sk-container-id-2 div.sk-estimator:hover label.sk-toggleable__label-arrow:before {color: black;}#sk-container-id-2 div.sk-toggleable__content {max-height: 0;max-width: 0;overflow: hidden;text-align: left;background-color: #f0f8ff;}#sk-container-id-2 div.sk-toggleable__content pre {margin: 0.2em;color: black;border-radius: 0.25em;background-color: #f0f8ff;}#sk-container-id-2 input.sk-toggleable__control:checked~div.sk-toggleable__content {max-height: 200px;max-width: 100%;overflow: auto;}#sk-container-id-2 input.sk-toggleable__control:checked~label.sk-toggleable__label-arrow:before {content: \"▾\";}#sk-container-id-2 div.sk-estimator input.sk-toggleable__control:checked~label.sk-toggleable__label {background-color: #d4ebff;}#sk-container-id-2 div.sk-label input.sk-toggleable__control:checked~label.sk-toggleable__label {background-color: #d4ebff;}#sk-container-id-2 input.sk-hidden--visually {border: 0;clip: rect(1px 1px 1px 1px);clip: rect(1px, 1px, 1px, 1px);height: 1px;margin: -1px;overflow: hidden;padding: 0;position: absolute;width: 1px;}#sk-container-id-2 div.sk-estimator {font-family: monospace;background-color: #f0f8ff;border: 1px dotted black;border-radius: 0.25em;box-sizing: border-box;margin-bottom: 0.5em;}#sk-container-id-2 div.sk-estimator:hover {background-color: #d4ebff;}#sk-container-id-2 div.sk-parallel-item::after {content: \"\";width: 100%;border-bottom: 1px solid gray;flex-grow: 1;}#sk-container-id-2 div.sk-label:hover label.sk-toggleable__label {background-color: #d4ebff;}#sk-container-id-2 div.sk-serial::before {content: \"\";position: absolute;border-left: 1px solid gray;box-sizing: border-box;top: 0;bottom: 0;left: 50%;z-index: 0;}#sk-container-id-2 div.sk-serial {display: flex;flex-direction: column;align-items: center;background-color: white;padding-right: 0.2em;padding-left: 0.2em;position: relative;}#sk-container-id-2 div.sk-item {position: relative;z-index: 1;}#sk-container-id-2 div.sk-parallel {display: flex;align-items: stretch;justify-content: center;background-color: white;position: relative;}#sk-container-id-2 div.sk-item::before, #sk-container-id-2 div.sk-parallel-item::before {content: \"\";position: absolute;border-left: 1px solid gray;box-sizing: border-box;top: 0;bottom: 0;left: 50%;z-index: -1;}#sk-container-id-2 div.sk-parallel-item {display: flex;flex-direction: column;z-index: 1;position: relative;background-color: white;}#sk-container-id-2 div.sk-parallel-item:first-child::after {align-self: flex-end;width: 50%;}#sk-container-id-2 div.sk-parallel-item:last-child::after {align-self: flex-start;width: 50%;}#sk-container-id-2 div.sk-parallel-item:only-child::after {width: 0;}#sk-container-id-2 div.sk-dashed-wrapped {border: 1px dashed gray;margin: 0 0.4em 0.5em 0.4em;box-sizing: border-box;padding-bottom: 0.4em;background-color: white;}#sk-container-id-2 div.sk-label label {font-family: monospace;font-weight: bold;display: inline-block;line-height: 1.2em;}#sk-container-id-2 div.sk-label-container {text-align: center;}#sk-container-id-2 div.sk-container {/* jupyter's `normalize.less` sets `[hidden] { display: none; }` but bootstrap.min.css set `[hidden] { display: none !important; }` so we also need the `!important` here to be able to override the default hidden behavior on the sphinx rendered scikit-learn.org. See: https://github.com/scikit-learn/scikit-learn/issues/21755 */display: inline-block !important;position: relative;}#sk-container-id-2 div.sk-text-repr-fallback {display: none;}</style><div id=\"sk-container-id-2\" class=\"sk-top-container\"><div class=\"sk-text-repr-fallback\"><pre>KNeighborsRegressor(leaf_size=100, n_neighbors=30, weights=&#x27;distance&#x27;)</pre><b>In a Jupyter environment, please rerun this cell to show the HTML representation or trust the notebook. <br />On GitHub, the HTML representation is unable to render, please try loading this page with nbviewer.org.</b></div><div class=\"sk-container\" hidden><div class=\"sk-item\"><div class=\"sk-estimator sk-toggleable\"><input class=\"sk-toggleable__control sk-hidden--visually\" id=\"sk-estimator-id-2\" type=\"checkbox\" checked><label for=\"sk-estimator-id-2\" class=\"sk-toggleable__label sk-toggleable__label-arrow\">KNeighborsRegressor</label><div class=\"sk-toggleable__content\"><pre>KNeighborsRegressor(leaf_size=100, n_neighbors=30, weights=&#x27;distance&#x27;)</pre></div></div></div></div></div>"
      ],
      "text/plain": [
       "KNeighborsRegressor(leaf_size=100, n_neighbors=30, weights='distance')"
      ]
     },
     "execution_count": 50,
     "metadata": {},
     "output_type": "execute_result"
    }
   ],
   "source": [
    "\n",
    "# Create a KNeighborsRegressor instance\n",
    "KNN_regressor_model = KNeighborsRegressor(n_neighbors=30, weights=\"distance\", leaf_size=100) \n",
    "\n",
    "# Fit the model to the training data\n",
    "KNN_regressor_model.fit(X_train_all_merged, y_train)"
   ]
  },
  {
   "cell_type": "code",
   "execution_count": 51,
   "id": "bdf1edb4-8370-48da-9f1a-5a1d48e0d055",
   "metadata": {},
   "outputs": [
    {
     "name": "stdout",
     "output_type": "stream",
     "text": [
      "R-squared Score for Training Data: 0.9976945732083496\n"
     ]
    }
   ],
   "source": [
    "# Make predictions on the training data\n",
    "y_pred_train = KNN_regressor_model.predict(X_train_all_merged)\n",
    "\n",
    "# Calculate the R-squared score for training data\n",
    "KNN_train_score = KNN_regressor_model.score(X_train_all_merged, y_train)\n",
    "\n",
    "print(f\"R-squared Score for Training Data: {KNN_train_score}\")"
   ]
  },
  {
   "cell_type": "code",
   "execution_count": null,
   "id": "fd107bb9-6ded-478e-8773-a32faf75fce3",
   "metadata": {},
   "outputs": [],
   "source": [
    "KNN_val_score = KNN_regressor_model.score(X_val_all_merged, y_val)\n",
    "print(f\"R-squared Score for Validaion Data: {KNN_val_score}\")"
   ]
  },
  {
   "cell_type": "code",
   "execution_count": 44,
   "id": "8200ae13-458b-4d9f-a825-b312e8c15efb",
   "metadata": {},
   "outputs": [
    {
     "name": "stdout",
     "output_type": "stream",
     "text": [
      "Mean Squared Error for Training Data: 48071508736.357956\n",
      "R-squared Score for Validation Data: -0.14897146203196754\n",
      "Mean Squared Error for Validation Data: 6124546204925.301\n"
     ]
    }
   ],
   "source": [
    "\n",
    "# Calculate the Mean Squared Error for training data\n",
    "mse = mean_squared_error(y_train, y_pred_train)  \n",
    "print(f\"Mean Squared Error for Training Data: {mse}\")\n",
    "\n",
    "# Make predictions on the validation data\n",
    "y_pred_val = KNN_regressor_model.predict(X_val_all_merged)\n",
    "\n",
    "# Calculate the R-squared score for validation data\n",
    "KNN_val_score = r2_score(y_val, y_pred_val)  \n",
    "print(f\"R-squared Score for Validation Data: {KNN_val_score}\")\n",
    "\n",
    "# Calculate the Mean Squared Error for validation data\n",
    "mse = mean_squared_error(y_val, y_pred_val)  \n",
    "print(f\"Mean Squared Error for Validation Data: {mse}\")"
   ]
  },
  {
   "cell_type": "code",
   "execution_count": 32,
   "id": "4c6d79d2-203a-4bd8-8a36-91348a3d430a",
   "metadata": {},
   "outputs": [],
   "source": [
    "from sklearn.neighbors import KNeighborsRegressor\n",
    "\n",
    "estimators = [\n",
    "    ('scaling', StandardScaler()),\n",
    "    ('reduce_dim', PCA()),\n",
    "    ('model', KNeighborsRegressor())\n",
    "]\n",
    "\n",
    "pipe = Pipeline(estimators)\n",
    "\n",
    "param_dist = [\n",
    "    {\n",
    "        'scaling': [StandardScaler(), RobustScaler(), MinMaxScaler()],\n",
    "        'reduce_dim': [PCA()],\n",
    "        'reduce_dim__n_components': [1, 100, 10],\n",
    "        'model': [KNeighborsRegressor()],\n",
    "        'model__n_neighbors': [3, 10, 30, 50],\n",
    "        'model__weights': ['uniform', 'distance'],\n",
    "        'model__leaf_size': [10,50, 100],\n",
    "        'model__n_jobs': [-1]\n",
    "    }\n",
    "]\n",
    "\n",
    "random_search = RandomizedSearchCV(\n",
    "    estimator=pipe,\n",
    "    param_distributions=param_dist,\n",
    "    n_iter=10, \n",
    "    cv=5,\n",
    "    verbose=2,\n",
    "    n_jobs=-1\n",
    ")\n"
   ]
  },
  {
   "cell_type": "code",
   "execution_count": null,
   "id": "d4442e2a-6254-46c5-b145-5d6c2ad78970",
   "metadata": {},
   "outputs": [
    {
     "name": "stdout",
     "output_type": "stream",
     "text": [
      "Fitting 5 folds for each of 10 candidates, totalling 50 fits\n"
     ]
    }
   ],
   "source": [
    "# Fit the grid search to the training data\n",
    "random_search.fit(X_train_all_merged, y_train)\n",
    "\n",
    "# Get the best estimator\n",
    "best_estimator = random_search.best_estimator_\n",
    "\n",
    "y_pred_train_KNN_estimator = best_estimator.predict(X_train_all_merged)\n",
    "y_pred_val_KNN_estimator = best_estimator.predict(X_val_all_merged)\n",
    "\n",
    "# Calculate the R-squared (R2) score\n",
    "r2_train_KNN_estimator = r2_score(y_train,y_pred_train_KNN_estimator)\n",
    "r2_val_KNN_estimator = r2_score(y_val, y_pred_val_KNN_estimator)"
   ]
  },
  {
   "cell_type": "markdown",
   "id": "2f7054ac-6d1c-4b83-8c9c-bbbf9a5253f5",
   "metadata": {},
   "source": [
    "The analysis reveals that none of the models achieved a satisfactory level of performance in capturing the underlying patterns within the variance of the data, whether applied to the training dataset or the validation dataset. This outcome is particularly noteworthy, given that one of the model features was \"Assessed Value,\" which, in principle, should exhibit a correlation with the sale price. Had any of the models exhibited significant R-squared (R^2) values, the subsequent steps would have entailed further refinement and optimization, possibly including ensemble techniques such as model bagging."
   ]
  },
  {
   "cell_type": "code",
   "execution_count": null,
   "id": "651db1f4-e72d-4852-b678-c25b49445235",
   "metadata": {},
   "outputs": [],
   "source": []
  }
 ],
 "metadata": {
  "colab": {
   "provenance": [],
   "toc_visible": true
  },
  "kernelspec": {
   "display_name": "Python 3 (ipykernel)",
   "language": "python",
   "name": "python3"
  },
  "language_info": {
   "codemirror_mode": {
    "name": "ipython",
    "version": 3
   },
   "file_extension": ".py",
   "mimetype": "text/x-python",
   "name": "python",
   "nbconvert_exporter": "python",
   "pygments_lexer": "ipython3",
   "version": "3.11.3"
  }
 },
 "nbformat": 4,
 "nbformat_minor": 5
}
